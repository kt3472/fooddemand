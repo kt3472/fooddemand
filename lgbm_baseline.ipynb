{
 "cells": [
  {
   "cell_type": "markdown",
   "metadata": {},
   "source": [
    "## Food Demand Forecasting Challenge(Practice Problem at analytics Vidhya)\n",
    " \n",
    "* about : https://datahack.analyticsvidhya.com/contest/genpact-machine-learning-hackathon-1/#About) \n",
    "* data description : https://datahack.analyticsvidhya.com/contest/genpact-machine-learning-hackathon-1/#ProblemStatement\n",
    "* forecasting target : num_orders\n",
    "* Evaluation : 100 * RMSLE ( root of mean squared logarithmic error )\n",
    "\n",
    "\n",
    "## 2. Baseline model(LGBM)"
   ]
  },
  {
   "cell_type": "code",
   "execution_count": 74,
   "metadata": {},
   "outputs": [],
   "source": [
    "import pandas as pd\n",
    "import numpy as np\n",
    "import matplotlib.pyplot as plt\n",
    "import seaborn as sns\n",
    "import warnings\n",
    "\n",
    "from sklearn import preprocessing\n",
    "from sklearn.model_selection import train_test_split\n",
    "import lightgbm as lgb\n",
    "from sklearn.metrics import mean_squared_error, r2_score\n",
    "\n",
    "\n",
    "%matplotlib inline\n",
    "warnings.filterwarnings(\"ignore\")"
   ]
  },
  {
   "cell_type": "code",
   "execution_count": 4,
   "metadata": {},
   "outputs": [],
   "source": [
    "df_train = pd.read_csv('./data/train.csv')\n",
    "df_test = pd.read_csv('./data/test.csv')\n",
    "df_info_meal = pd.read_csv('./data/meal_info.csv')\n",
    "df_info_fulfil = pd.read_csv('./data/fulfilment_center_info.csv')"
   ]
  },
  {
   "cell_type": "code",
   "execution_count": 5,
   "metadata": {},
   "outputs": [],
   "source": [
    "df_train = pd.merge(df_train, df_info_fulfil, how=\"left\",\n",
    "                    left_on='center_id',\n",
    "                    right_on='center_id')\n",
    "\n",
    "df_train = pd.merge(df_train, df_info_meal, how='left',\n",
    "                    left_on='meal_id',\n",
    "                    right_on='meal_id')\n",
    "\n",
    "df_test = pd.merge(df_test, df_info_fulfil, how=\"left\",\n",
    "                   left_on='center_id',\n",
    "                   right_on='center_id')\n",
    "\n",
    "df_test = pd.merge(df_test, df_info_meal, how='left',\n",
    "                   left_on='meal_id',\n",
    "                   right_on='meal_id')"
   ]
  },
  {
   "cell_type": "code",
   "execution_count": 6,
   "metadata": {},
   "outputs": [],
   "source": [
    "label_encoder = preprocessing.LabelEncoder()"
   ]
  },
  {
   "cell_type": "code",
   "execution_count": 7,
   "metadata": {},
   "outputs": [],
   "source": [
    "X = df_train.loc[:, df_train.columns != \"num_orders\"]\n",
    "X.drop(['id'], inplace=True, axis = 1)\n",
    "y = df_train['num_orders'].values"
   ]
  },
  {
   "cell_type": "code",
   "execution_count": 8,
   "metadata": {},
   "outputs": [],
   "source": [
    "c_col = X.columns[X.dtypes == 'object'].tolist()"
   ]
  },
  {
   "cell_type": "code",
   "execution_count": 9,
   "metadata": {},
   "outputs": [],
   "source": [
    "for col in c_col:\n",
    "    X[col] = label_encoder.fit_transform(X[col].astype(str))"
   ]
  },
  {
   "cell_type": "code",
   "execution_count": 10,
   "metadata": {},
   "outputs": [],
   "source": [
    "feature_names = X.columns.tolist()"
   ]
  },
  {
   "cell_type": "code",
   "execution_count": 34,
   "metadata": {},
   "outputs": [
    {
     "data": {
      "text/html": [
       "<div>\n",
       "<style scoped>\n",
       "    .dataframe tbody tr th:only-of-type {\n",
       "        vertical-align: middle;\n",
       "    }\n",
       "\n",
       "    .dataframe tbody tr th {\n",
       "        vertical-align: top;\n",
       "    }\n",
       "\n",
       "    .dataframe thead th {\n",
       "        text-align: right;\n",
       "    }\n",
       "</style>\n",
       "<table border=\"1\" class=\"dataframe\">\n",
       "  <thead>\n",
       "    <tr style=\"text-align: right;\">\n",
       "      <th></th>\n",
       "      <th>week</th>\n",
       "      <th>center_id</th>\n",
       "      <th>meal_id</th>\n",
       "      <th>checkout_price</th>\n",
       "      <th>base_price</th>\n",
       "      <th>emailer_for_promotion</th>\n",
       "      <th>homepage_featured</th>\n",
       "      <th>city_code</th>\n",
       "      <th>region_code</th>\n",
       "      <th>center_type</th>\n",
       "      <th>op_area</th>\n",
       "      <th>category</th>\n",
       "      <th>cuisine</th>\n",
       "    </tr>\n",
       "  </thead>\n",
       "  <tbody>\n",
       "    <tr>\n",
       "      <td>0</td>\n",
       "      <td>1</td>\n",
       "      <td>55</td>\n",
       "      <td>1885</td>\n",
       "      <td>136.83</td>\n",
       "      <td>152.29</td>\n",
       "      <td>0</td>\n",
       "      <td>0</td>\n",
       "      <td>647</td>\n",
       "      <td>56</td>\n",
       "      <td>2</td>\n",
       "      <td>2.0</td>\n",
       "      <td>0</td>\n",
       "      <td>3</td>\n",
       "    </tr>\n",
       "    <tr>\n",
       "      <td>1</td>\n",
       "      <td>1</td>\n",
       "      <td>55</td>\n",
       "      <td>1993</td>\n",
       "      <td>136.83</td>\n",
       "      <td>135.83</td>\n",
       "      <td>0</td>\n",
       "      <td>0</td>\n",
       "      <td>647</td>\n",
       "      <td>56</td>\n",
       "      <td>2</td>\n",
       "      <td>2.0</td>\n",
       "      <td>0</td>\n",
       "      <td>3</td>\n",
       "    </tr>\n",
       "    <tr>\n",
       "      <td>2</td>\n",
       "      <td>1</td>\n",
       "      <td>55</td>\n",
       "      <td>2539</td>\n",
       "      <td>134.86</td>\n",
       "      <td>135.86</td>\n",
       "      <td>0</td>\n",
       "      <td>0</td>\n",
       "      <td>647</td>\n",
       "      <td>56</td>\n",
       "      <td>2</td>\n",
       "      <td>2.0</td>\n",
       "      <td>0</td>\n",
       "      <td>3</td>\n",
       "    </tr>\n",
       "    <tr>\n",
       "      <td>3</td>\n",
       "      <td>1</td>\n",
       "      <td>55</td>\n",
       "      <td>2139</td>\n",
       "      <td>339.50</td>\n",
       "      <td>437.53</td>\n",
       "      <td>0</td>\n",
       "      <td>0</td>\n",
       "      <td>647</td>\n",
       "      <td>56</td>\n",
       "      <td>2</td>\n",
       "      <td>2.0</td>\n",
       "      <td>0</td>\n",
       "      <td>1</td>\n",
       "    </tr>\n",
       "    <tr>\n",
       "      <td>4</td>\n",
       "      <td>1</td>\n",
       "      <td>55</td>\n",
       "      <td>2631</td>\n",
       "      <td>243.50</td>\n",
       "      <td>242.50</td>\n",
       "      <td>0</td>\n",
       "      <td>0</td>\n",
       "      <td>647</td>\n",
       "      <td>56</td>\n",
       "      <td>2</td>\n",
       "      <td>2.0</td>\n",
       "      <td>0</td>\n",
       "      <td>1</td>\n",
       "    </tr>\n",
       "  </tbody>\n",
       "</table>\n",
       "</div>"
      ],
      "text/plain": [
       "   week  center_id  meal_id  checkout_price  base_price  \\\n",
       "0     1         55     1885          136.83      152.29   \n",
       "1     1         55     1993          136.83      135.83   \n",
       "2     1         55     2539          134.86      135.86   \n",
       "3     1         55     2139          339.50      437.53   \n",
       "4     1         55     2631          243.50      242.50   \n",
       "\n",
       "   emailer_for_promotion  homepage_featured  city_code  region_code  \\\n",
       "0                      0                  0        647           56   \n",
       "1                      0                  0        647           56   \n",
       "2                      0                  0        647           56   \n",
       "3                      0                  0        647           56   \n",
       "4                      0                  0        647           56   \n",
       "\n",
       "   center_type  op_area  category  cuisine  \n",
       "0            2      2.0         0        3  \n",
       "1            2      2.0         0        3  \n",
       "2            2      2.0         0        3  \n",
       "3            2      2.0         0        1  \n",
       "4            2      2.0         0        1  "
      ]
     },
     "execution_count": 34,
     "metadata": {},
     "output_type": "execute_result"
    }
   ],
   "source": [
    "X.head()"
   ]
  },
  {
   "cell_type": "code",
   "execution_count": 11,
   "metadata": {},
   "outputs": [],
   "source": [
    "X_train, X_valid, y_train, y_valid = train_test_split(\n",
    "    X, y, test_size=0.25, random_state=42)\n",
    "    \n",
    "# LightGBM dataset formatting \n",
    "lgtrain = lgb.Dataset(X_train, y_train,\n",
    "                feature_name=feature_names,\n",
    "                categorical_feature = c_col)\n",
    "\n",
    "lgvalid = lgb.Dataset(X_valid, y_valid,\n",
    "                feature_name=feature_names,\n",
    "                categorical_feature = c_col)"
   ]
  },
  {
   "cell_type": "code",
   "execution_count": 72,
   "metadata": {},
   "outputs": [],
   "source": [
    "params = {'learning_rate': 0.01, \n",
    "          'max_depth': 16, \n",
    "          'boosting': 'gbdt', \n",
    "          'objective': 'regression', \n",
    "          'metric': 'l2', \n",
    "          'is_training_metric': True, \n",
    "          'num_leaves': 100\n",
    "         }"
   ]
  },
  {
   "cell_type": "code",
   "execution_count": 73,
   "metadata": {},
   "outputs": [
    {
     "name": "stdout",
     "output_type": "stream",
     "text": [
      "Training until validation scores don't improve for 100 rounds\n",
      "[100]\tvalid_0's l2: 58847.9\n",
      "[200]\tvalid_0's l2: 38637.4\n",
      "[300]\tvalid_0's l2: 31358.8\n",
      "[400]\tvalid_0's l2: 27347.3\n",
      "[500]\tvalid_0's l2: 25101.4\n",
      "[600]\tvalid_0's l2: 23577\n",
      "[700]\tvalid_0's l2: 22489.5\n",
      "[800]\tvalid_0's l2: 21759.9\n",
      "[900]\tvalid_0's l2: 21128.9\n",
      "[1000]\tvalid_0's l2: 20634.1\n",
      "[1100]\tvalid_0's l2: 20231\n",
      "[1200]\tvalid_0's l2: 19881.4\n",
      "[1300]\tvalid_0's l2: 19583.5\n",
      "[1400]\tvalid_0's l2: 19319.8\n",
      "[1500]\tvalid_0's l2: 19077.2\n",
      "[1600]\tvalid_0's l2: 18870.4\n",
      "[1700]\tvalid_0's l2: 18662.8\n",
      "[1800]\tvalid_0's l2: 18482.5\n",
      "[1900]\tvalid_0's l2: 18315.9\n",
      "[2000]\tvalid_0's l2: 18163.8\n",
      "[2100]\tvalid_0's l2: 18006.4\n",
      "[2200]\tvalid_0's l2: 17847.7\n",
      "[2300]\tvalid_0's l2: 17699.4\n",
      "[2400]\tvalid_0's l2: 17573.5\n",
      "[2500]\tvalid_0's l2: 17446.8\n",
      "[2600]\tvalid_0's l2: 17348.9\n",
      "[2700]\tvalid_0's l2: 17249.8\n",
      "[2800]\tvalid_0's l2: 17146.7\n",
      "[2900]\tvalid_0's l2: 17058.8\n",
      "[3000]\tvalid_0's l2: 16975.7\n",
      "Did not meet early stopping. Best iteration is:\n",
      "[3000]\tvalid_0's l2: 16975.7\n"
     ]
    }
   ],
   "source": [
    "model = lgb.train(params, lgtrain, 3000, \n",
    "                  lgvalid, verbose_eval=100, \n",
    "                  early_stopping_rounds=100,\n",
    "                 categorical_feature=c_col)"
   ]
  },
  {
   "cell_type": "code",
   "execution_count": 78,
   "metadata": {},
   "outputs": [],
   "source": [
    "predict_train = model.predict(X_train)\n",
    "predict_test = model.predict(X_valid)"
   ]
  },
  {
   "cell_type": "code",
   "execution_count": 79,
   "metadata": {},
   "outputs": [],
   "source": [
    "mse = mean_squared_error(y_valid, predict_test)\n",
    "r2 = r2_score(y_valid, predict_test)"
   ]
  },
  {
   "cell_type": "code",
   "execution_count": 80,
   "metadata": {},
   "outputs": [
    {
     "name": "stdout",
     "output_type": "stream",
     "text": [
      "Mean squared error:  16975.689965497197\n",
      "R2 score:  0.889041073025336\n"
     ]
    }
   ],
   "source": [
    "print('Mean squared error: ', mse)\n",
    "print('R2 score: ', r2)"
   ]
  },
  {
   "cell_type": "code",
   "execution_count": null,
   "metadata": {},
   "outputs": [],
   "source": []
  }
 ],
 "metadata": {
  "kernelspec": {
   "display_name": "Python 3",
   "language": "python",
   "name": "python3"
  },
  "language_info": {
   "codemirror_mode": {
    "name": "ipython",
    "version": 3
   },
   "file_extension": ".py",
   "mimetype": "text/x-python",
   "name": "python",
   "nbconvert_exporter": "python",
   "pygments_lexer": "ipython3",
   "version": "3.7.4"
  }
 },
 "nbformat": 4,
 "nbformat_minor": 2
}
