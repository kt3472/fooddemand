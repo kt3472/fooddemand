{
 "cells": [
  {
   "cell_type": "markdown",
   "metadata": {},
   "source": [
    "## Food Demand Forecasting Challenge(Practice Problem at analytics Vidhya)\n",
    " \n",
    "* about : https://datahack.analyticsvidhya.com/contest/genpact-machine-learning-hackathon-1/#About) \n",
    "* data description : https://datahack.analyticsvidhya.com/contest/genpact-machine-learning-hackathon-1/#ProblemStatement\n",
    "* forecasting target : num_orders\n",
    "* Evaluation : 100 * RMSLE ( root of mean squared logarithmic error )\n",
    "\n",
    "\n",
    "## 3. Feature Engineering  & Parameter tuning"
   ]
  },
  {
   "cell_type": "code",
   "execution_count": 23,
   "metadata": {},
   "outputs": [],
   "source": [
    "import pandas as pd\n",
    "import numpy as np\n",
    "from sklearn import preprocessing\n",
    "import lightgbm as lgb\n",
    "from sklearn.model_selection import train_test_split,ParameterGrid\n",
    "from sklearn.metrics import mean_squared_error\n",
    "\n",
    "import warnings\n",
    "warnings.filterwarnings(\"ignore\")"
   ]
  },
  {
   "cell_type": "code",
   "execution_count": 24,
   "metadata": {},
   "outputs": [],
   "source": [
    "df_train = pd.read_csv('./data/train.csv')\n",
    "df_test = pd.read_csv('./data/test.csv')\n",
    "df_info_meal = pd.read_csv('./data/meal_info.csv')\n",
    "df_info_fulfil = pd.read_csv('./data/fulfilment_center_info.csv')"
   ]
  },
  {
   "cell_type": "code",
   "execution_count": 25,
   "metadata": {},
   "outputs": [],
   "source": [
    "df_train = pd.merge(df_train, df_info_fulfil,\n",
    "                    how=\"left\",\n",
    "                    left_on='center_id',\n",
    "                    right_on='center_id')\n",
    "\n",
    "df_train = pd.merge(df_train, df_info_meal,\n",
    "                    how='left',\n",
    "                    left_on='meal_id',\n",
    "                    right_on='meal_id')"
   ]
  },
  {
   "cell_type": "code",
   "execution_count": 26,
   "metadata": {},
   "outputs": [
    {
     "data": {
      "text/html": [
       "<div>\n",
       "<style scoped>\n",
       "    .dataframe tbody tr th:only-of-type {\n",
       "        vertical-align: middle;\n",
       "    }\n",
       "\n",
       "    .dataframe tbody tr th {\n",
       "        vertical-align: top;\n",
       "    }\n",
       "\n",
       "    .dataframe thead th {\n",
       "        text-align: right;\n",
       "    }\n",
       "</style>\n",
       "<table border=\"1\" class=\"dataframe\">\n",
       "  <thead>\n",
       "    <tr style=\"text-align: right;\">\n",
       "      <th></th>\n",
       "      <th>id</th>\n",
       "      <th>week</th>\n",
       "      <th>center_id</th>\n",
       "      <th>meal_id</th>\n",
       "      <th>checkout_price</th>\n",
       "      <th>base_price</th>\n",
       "      <th>emailer_for_promotion</th>\n",
       "      <th>homepage_featured</th>\n",
       "      <th>num_orders</th>\n",
       "      <th>city_code</th>\n",
       "      <th>region_code</th>\n",
       "      <th>center_type</th>\n",
       "      <th>op_area</th>\n",
       "      <th>category</th>\n",
       "      <th>cuisine</th>\n",
       "    </tr>\n",
       "  </thead>\n",
       "  <tbody>\n",
       "    <tr>\n",
       "      <td>0</td>\n",
       "      <td>1379560</td>\n",
       "      <td>1</td>\n",
       "      <td>55</td>\n",
       "      <td>1885</td>\n",
       "      <td>136.83</td>\n",
       "      <td>152.29</td>\n",
       "      <td>0</td>\n",
       "      <td>0</td>\n",
       "      <td>177</td>\n",
       "      <td>647</td>\n",
       "      <td>56</td>\n",
       "      <td>TYPE_C</td>\n",
       "      <td>2.0</td>\n",
       "      <td>Beverages</td>\n",
       "      <td>Thai</td>\n",
       "    </tr>\n",
       "    <tr>\n",
       "      <td>1</td>\n",
       "      <td>1466964</td>\n",
       "      <td>1</td>\n",
       "      <td>55</td>\n",
       "      <td>1993</td>\n",
       "      <td>136.83</td>\n",
       "      <td>135.83</td>\n",
       "      <td>0</td>\n",
       "      <td>0</td>\n",
       "      <td>270</td>\n",
       "      <td>647</td>\n",
       "      <td>56</td>\n",
       "      <td>TYPE_C</td>\n",
       "      <td>2.0</td>\n",
       "      <td>Beverages</td>\n",
       "      <td>Thai</td>\n",
       "    </tr>\n",
       "    <tr>\n",
       "      <td>2</td>\n",
       "      <td>1346989</td>\n",
       "      <td>1</td>\n",
       "      <td>55</td>\n",
       "      <td>2539</td>\n",
       "      <td>134.86</td>\n",
       "      <td>135.86</td>\n",
       "      <td>0</td>\n",
       "      <td>0</td>\n",
       "      <td>189</td>\n",
       "      <td>647</td>\n",
       "      <td>56</td>\n",
       "      <td>TYPE_C</td>\n",
       "      <td>2.0</td>\n",
       "      <td>Beverages</td>\n",
       "      <td>Thai</td>\n",
       "    </tr>\n",
       "    <tr>\n",
       "      <td>3</td>\n",
       "      <td>1338232</td>\n",
       "      <td>1</td>\n",
       "      <td>55</td>\n",
       "      <td>2139</td>\n",
       "      <td>339.50</td>\n",
       "      <td>437.53</td>\n",
       "      <td>0</td>\n",
       "      <td>0</td>\n",
       "      <td>54</td>\n",
       "      <td>647</td>\n",
       "      <td>56</td>\n",
       "      <td>TYPE_C</td>\n",
       "      <td>2.0</td>\n",
       "      <td>Beverages</td>\n",
       "      <td>Indian</td>\n",
       "    </tr>\n",
       "    <tr>\n",
       "      <td>4</td>\n",
       "      <td>1448490</td>\n",
       "      <td>1</td>\n",
       "      <td>55</td>\n",
       "      <td>2631</td>\n",
       "      <td>243.50</td>\n",
       "      <td>242.50</td>\n",
       "      <td>0</td>\n",
       "      <td>0</td>\n",
       "      <td>40</td>\n",
       "      <td>647</td>\n",
       "      <td>56</td>\n",
       "      <td>TYPE_C</td>\n",
       "      <td>2.0</td>\n",
       "      <td>Beverages</td>\n",
       "      <td>Indian</td>\n",
       "    </tr>\n",
       "  </tbody>\n",
       "</table>\n",
       "</div>"
      ],
      "text/plain": [
       "        id  week  center_id  meal_id  checkout_price  base_price  \\\n",
       "0  1379560     1         55     1885          136.83      152.29   \n",
       "1  1466964     1         55     1993          136.83      135.83   \n",
       "2  1346989     1         55     2539          134.86      135.86   \n",
       "3  1338232     1         55     2139          339.50      437.53   \n",
       "4  1448490     1         55     2631          243.50      242.50   \n",
       "\n",
       "   emailer_for_promotion  homepage_featured  num_orders  city_code  \\\n",
       "0                      0                  0         177        647   \n",
       "1                      0                  0         270        647   \n",
       "2                      0                  0         189        647   \n",
       "3                      0                  0          54        647   \n",
       "4                      0                  0          40        647   \n",
       "\n",
       "   region_code center_type  op_area   category cuisine  \n",
       "0           56      TYPE_C      2.0  Beverages    Thai  \n",
       "1           56      TYPE_C      2.0  Beverages    Thai  \n",
       "2           56      TYPE_C      2.0  Beverages    Thai  \n",
       "3           56      TYPE_C      2.0  Beverages  Indian  \n",
       "4           56      TYPE_C      2.0  Beverages  Indian  "
      ]
     },
     "execution_count": 26,
     "metadata": {},
     "output_type": "execute_result"
    }
   ],
   "source": [
    "df_train.head()"
   ]
  },
  {
   "cell_type": "code",
   "execution_count": 27,
   "metadata": {},
   "outputs": [
    {
     "data": {
      "text/html": [
       "<div>\n",
       "<style scoped>\n",
       "    .dataframe tbody tr th:only-of-type {\n",
       "        vertical-align: middle;\n",
       "    }\n",
       "\n",
       "    .dataframe tbody tr th {\n",
       "        vertical-align: top;\n",
       "    }\n",
       "\n",
       "    .dataframe thead th {\n",
       "        text-align: right;\n",
       "    }\n",
       "</style>\n",
       "<table border=\"1\" class=\"dataframe\">\n",
       "  <thead>\n",
       "    <tr style=\"text-align: right;\">\n",
       "      <th></th>\n",
       "      <th>id</th>\n",
       "      <th>week</th>\n",
       "      <th>center_id</th>\n",
       "      <th>meal_id</th>\n",
       "      <th>checkout_price</th>\n",
       "      <th>base_price</th>\n",
       "      <th>emailer_for_promotion</th>\n",
       "      <th>homepage_featured</th>\n",
       "      <th>num_orders</th>\n",
       "      <th>city_code</th>\n",
       "      <th>region_code</th>\n",
       "      <th>center_type</th>\n",
       "      <th>op_area</th>\n",
       "      <th>category</th>\n",
       "      <th>cuisine</th>\n",
       "    </tr>\n",
       "  </thead>\n",
       "  <tbody>\n",
       "    <tr>\n",
       "      <td>0</td>\n",
       "      <td>1379560</td>\n",
       "      <td>1</td>\n",
       "      <td>55</td>\n",
       "      <td>1885</td>\n",
       "      <td>136.83</td>\n",
       "      <td>152.29</td>\n",
       "      <td>0</td>\n",
       "      <td>0</td>\n",
       "      <td>177</td>\n",
       "      <td>647</td>\n",
       "      <td>56</td>\n",
       "      <td>TYPE_C</td>\n",
       "      <td>2.0</td>\n",
       "      <td>Beverages</td>\n",
       "      <td>Thai</td>\n",
       "    </tr>\n",
       "    <tr>\n",
       "      <td>1</td>\n",
       "      <td>1466964</td>\n",
       "      <td>1</td>\n",
       "      <td>55</td>\n",
       "      <td>1993</td>\n",
       "      <td>136.83</td>\n",
       "      <td>135.83</td>\n",
       "      <td>0</td>\n",
       "      <td>0</td>\n",
       "      <td>270</td>\n",
       "      <td>647</td>\n",
       "      <td>56</td>\n",
       "      <td>TYPE_C</td>\n",
       "      <td>2.0</td>\n",
       "      <td>Beverages</td>\n",
       "      <td>Thai</td>\n",
       "    </tr>\n",
       "    <tr>\n",
       "      <td>2</td>\n",
       "      <td>1346989</td>\n",
       "      <td>1</td>\n",
       "      <td>55</td>\n",
       "      <td>2539</td>\n",
       "      <td>134.86</td>\n",
       "      <td>135.86</td>\n",
       "      <td>0</td>\n",
       "      <td>0</td>\n",
       "      <td>189</td>\n",
       "      <td>647</td>\n",
       "      <td>56</td>\n",
       "      <td>TYPE_C</td>\n",
       "      <td>2.0</td>\n",
       "      <td>Beverages</td>\n",
       "      <td>Thai</td>\n",
       "    </tr>\n",
       "    <tr>\n",
       "      <td>3</td>\n",
       "      <td>1338232</td>\n",
       "      <td>1</td>\n",
       "      <td>55</td>\n",
       "      <td>2139</td>\n",
       "      <td>339.50</td>\n",
       "      <td>437.53</td>\n",
       "      <td>0</td>\n",
       "      <td>0</td>\n",
       "      <td>54</td>\n",
       "      <td>647</td>\n",
       "      <td>56</td>\n",
       "      <td>TYPE_C</td>\n",
       "      <td>2.0</td>\n",
       "      <td>Beverages</td>\n",
       "      <td>Indian</td>\n",
       "    </tr>\n",
       "    <tr>\n",
       "      <td>4</td>\n",
       "      <td>1448490</td>\n",
       "      <td>1</td>\n",
       "      <td>55</td>\n",
       "      <td>2631</td>\n",
       "      <td>243.50</td>\n",
       "      <td>242.50</td>\n",
       "      <td>0</td>\n",
       "      <td>0</td>\n",
       "      <td>40</td>\n",
       "      <td>647</td>\n",
       "      <td>56</td>\n",
       "      <td>TYPE_C</td>\n",
       "      <td>2.0</td>\n",
       "      <td>Beverages</td>\n",
       "      <td>Indian</td>\n",
       "    </tr>\n",
       "  </tbody>\n",
       "</table>\n",
       "</div>"
      ],
      "text/plain": [
       "        id  week  center_id  meal_id  checkout_price  base_price  \\\n",
       "0  1379560     1         55     1885          136.83      152.29   \n",
       "1  1466964     1         55     1993          136.83      135.83   \n",
       "2  1346989     1         55     2539          134.86      135.86   \n",
       "3  1338232     1         55     2139          339.50      437.53   \n",
       "4  1448490     1         55     2631          243.50      242.50   \n",
       "\n",
       "   emailer_for_promotion  homepage_featured  num_orders  city_code  \\\n",
       "0                      0                  0         177        647   \n",
       "1                      0                  0         270        647   \n",
       "2                      0                  0         189        647   \n",
       "3                      0                  0          54        647   \n",
       "4                      0                  0          40        647   \n",
       "\n",
       "   region_code center_type  op_area   category cuisine  \n",
       "0           56      TYPE_C      2.0  Beverages    Thai  \n",
       "1           56      TYPE_C      2.0  Beverages    Thai  \n",
       "2           56      TYPE_C      2.0  Beverages    Thai  \n",
       "3           56      TYPE_C      2.0  Beverages  Indian  \n",
       "4           56      TYPE_C      2.0  Beverages  Indian  "
      ]
     },
     "execution_count": 27,
     "metadata": {},
     "output_type": "execute_result"
    }
   ],
   "source": [
    "df_train.head()"
   ]
  },
  {
   "cell_type": "code",
   "execution_count": 28,
   "metadata": {},
   "outputs": [],
   "source": [
    "df_test = pd.merge(df_test, df_info_fulfil,\n",
    "                   how=\"left\",\n",
    "                   left_on='center_id',\n",
    "                   right_on='center_id')\n",
    "\n",
    "df_test = pd.merge(df_test, df_info_meal,\n",
    "                   how='left',\n",
    "                   left_on='meal_id',\n",
    "                   right_on='meal_id')"
   ]
  },
  {
   "cell_type": "markdown",
   "metadata": {},
   "source": [
    "(Feature Engineering) base_price와 checkout_price(할인 적용 가격)의 percentage(%)기준 차이값 컬럼과 그 차이가 10%이상일 경우 \"UP\", -10%이하 일경우  \"Down\", 10% 와 -10% 사이일 경우 'not change\"인 범주형 컬럼을 생성"
   ]
  },
  {
   "cell_type": "code",
   "execution_count": 29,
   "metadata": {},
   "outputs": [],
   "source": [
    "df_train['price_diff_percent'] = (df_train['base_price'] - df_train['checkout_price']) / df_train['base_price']\n",
    "df_test['price_diff_percent'] =  (df_test['base_price'] - df_test['checkout_price']) / df_test['base_price']"
   ]
  },
  {
   "cell_type": "code",
   "execution_count": 30,
   "metadata": {},
   "outputs": [],
   "source": [
    "df_train.loc[df_train['price_diff_percent'] > 0.1, 'big_diff'] = \"UP\"\n",
    "df_train.loc[df_train['price_diff_percent'] < -0.1, 'big_diff'] = \"DOWM\"\n",
    "df_train['big_diff'] = df_train['big_diff'].fillna(\"notchange\")\n",
    "\n",
    "df_test.loc[df_test['price_diff_percent'] > 0.1, 'big_diff'] = \"UP\"\n",
    "df_test.loc[df_test['price_diff_percent'] < -0.1, 'big_diff'] = \"DOWM\"\n",
    "df_test['big_diff'] = df_test['big_diff'].fillna(\"notchange\")"
   ]
  },
  {
   "cell_type": "code",
   "execution_count": 31,
   "metadata": {},
   "outputs": [],
   "source": [
    "label_encode_columns = ['center_id', \n",
    "                        'meal_id', \n",
    "                        'emailer_for_promotion', \n",
    "                        'homepage_featured',                          \n",
    "                        'city_code', \n",
    "                        'region_code', \n",
    "                        'op_area',\n",
    "                        'center_type',\n",
    "                        'category',\n",
    "                        'cuisine',\n",
    "                        'big_diff'\n",
    "                       ]"
   ]
  },
  {
   "cell_type": "code",
   "execution_count": 32,
   "metadata": {},
   "outputs": [
    {
     "data": {
      "text/plain": [
       "0                UP\n",
       "1         notchange\n",
       "2         notchange\n",
       "3                UP\n",
       "4         notchange\n",
       "            ...    \n",
       "456543    notchange\n",
       "456544    notchange\n",
       "456545           UP\n",
       "456546           UP\n",
       "456547    notchange\n",
       "Name: big_diff, Length: 456548, dtype: object"
      ]
     },
     "execution_count": 32,
     "metadata": {},
     "output_type": "execute_result"
    }
   ],
   "source": [
    "df_train['big_diff']"
   ]
  },
  {
   "cell_type": "code",
   "execution_count": 33,
   "metadata": {},
   "outputs": [],
   "source": [
    "le = preprocessing.LabelEncoder()\n",
    "\n",
    "for col in label_encode_columns:\n",
    "    le.fit(df_train[col])\n",
    "    df_train[col + '_encoded'] = le.transform(df_train[col])\n",
    "    df_test[col + '_encoded'] = le.transform(df_test[col])"
   ]
  },
  {
   "cell_type": "code",
   "execution_count": 34,
   "metadata": {},
   "outputs": [],
   "source": [
    "feature_name = [col for col in df_train.columns if col not in label_encode_columns]"
   ]
  },
  {
   "cell_type": "code",
   "execution_count": 35,
   "metadata": {},
   "outputs": [
    {
     "data": {
      "text/plain": [
       "['id',\n",
       " 'week',\n",
       " 'checkout_price',\n",
       " 'base_price',\n",
       " 'num_orders',\n",
       " 'price_diff_percent',\n",
       " 'center_id_encoded',\n",
       " 'meal_id_encoded',\n",
       " 'emailer_for_promotion_encoded',\n",
       " 'homepage_featured_encoded',\n",
       " 'city_code_encoded',\n",
       " 'region_code_encoded',\n",
       " 'op_area_encoded',\n",
       " 'center_type_encoded',\n",
       " 'category_encoded',\n",
       " 'cuisine_encoded',\n",
       " 'big_diff_encoded']"
      ]
     },
     "execution_count": 35,
     "metadata": {},
     "output_type": "execute_result"
    }
   ],
   "source": [
    "feature_name"
   ]
  },
  {
   "cell_type": "markdown",
   "metadata": {},
   "source": [
    "* 학습에 불필요한 \"id\"컬럼과 target 컬럼인 \"num_orders\"를 제외"
   ]
  },
  {
   "cell_type": "code",
   "execution_count": 36,
   "metadata": {},
   "outputs": [],
   "source": [
    "feature_name.remove('id')\n",
    "feature_name.remove('num_orders')"
   ]
  },
  {
   "cell_type": "code",
   "execution_count": 37,
   "metadata": {},
   "outputs": [
    {
     "data": {
      "text/plain": [
       "['week',\n",
       " 'checkout_price',\n",
       " 'base_price',\n",
       " 'price_diff_percent',\n",
       " 'center_id_encoded',\n",
       " 'meal_id_encoded',\n",
       " 'emailer_for_promotion_encoded',\n",
       " 'homepage_featured_encoded',\n",
       " 'city_code_encoded',\n",
       " 'region_code_encoded',\n",
       " 'op_area_encoded',\n",
       " 'center_type_encoded',\n",
       " 'category_encoded',\n",
       " 'cuisine_encoded',\n",
       " 'big_diff_encoded']"
      ]
     },
     "execution_count": 37,
     "metadata": {},
     "output_type": "execute_result"
    }
   ],
   "source": [
    "feature_name"
   ]
  },
  {
   "cell_type": "code",
   "execution_count": 38,
   "metadata": {},
   "outputs": [],
   "source": [
    "categorical_columns = ['center_id_encoded',\n",
    "                       'meal_id_encoded',\n",
    "                       'emailer_for_promotion_encoded',\n",
    "                       'homepage_featured_encoded',\n",
    "                       'city_code_encoded',\n",
    "                       'region_code_encoded',\n",
    "                       'op_area_encoded',\n",
    "                       'center_type_encoded',\n",
    "                       'category_encoded',\n",
    "                       'cuisine_encoded',\n",
    "                       'big_diff_encoded'\n",
    "                     ]"
   ]
  },
  {
   "cell_type": "code",
   "execution_count": 39,
   "metadata": {},
   "outputs": [],
   "source": [
    "numerical_columns = [col for col in feature_name if col not in categorical_columns]"
   ]
  },
  {
   "cell_type": "code",
   "execution_count": 40,
   "metadata": {},
   "outputs": [],
   "source": [
    "#numerical_columns.remove('checkout_price')\n",
    "#numerical_columns.remove('base_price')"
   ]
  },
  {
   "cell_type": "code",
   "execution_count": 41,
   "metadata": {},
   "outputs": [
    {
     "data": {
      "text/plain": [
       "['week', 'checkout_price', 'base_price', 'price_diff_percent']"
      ]
     },
     "execution_count": 41,
     "metadata": {},
     "output_type": "execute_result"
    }
   ],
   "source": [
    "numerical_columns"
   ]
  },
  {
   "cell_type": "markdown",
   "metadata": {},
   "source": [
    "* train set을  80 :20(train : valid) 으로 나눠 학습실행"
   ]
  },
  {
   "cell_type": "markdown",
   "metadata": {},
   "source": [
    "(Feature Engineering) 'num_orders'의 값을 log transform"
   ]
  },
  {
   "cell_type": "code",
   "execution_count": 42,
   "metadata": {},
   "outputs": [],
   "source": [
    "X = df_train[categorical_columns + numerical_columns]\n",
    "#y = df_train['num_orders']\n",
    "y = np.log1p(df_train['num_orders'])\n",
    "\n",
    "X_train, X_valid, y_train, y_valid = train_test_split(X, y, \n",
    "                                                    test_size=0.02, \n",
    "                                                    shuffle=False)"
   ]
  },
  {
   "cell_type": "markdown",
   "metadata": {},
   "source": [
    "* (parameter tuning) Grid search 를 통해 최적의 파라미터를 계산함\n",
    "* {'colsample_bytree': 0.4, 'min_child_samples': 5, 'num_leaves': 127'}"
   ]
  },
  {
   "cell_type": "code",
   "execution_count": 44,
   "metadata": {},
   "outputs": [],
   "source": [
    "params = {'boosting_type' : 'gbdt',\n",
    "          'objective': 'regression',\n",
    "          'num_leaves':127,\n",
    "          'learning_rate':0.01,\n",
    "          'colsample_bytree': 0.4,\n",
    "          'min_child_samples': 5,\n",
    "          'n_estimators':10000,\n",
    "          'max_depth':20,\n",
    "          'metric':'rmse',\n",
    "          }"
   ]
  },
  {
   "cell_type": "markdown",
   "metadata": {},
   "source": [
    "### LightGBM Modeling\n",
    "\n",
    "* Gradient Boosting Decision Tree\n",
    "* Ensemble\n",
    "\n",
    "참고 : https://lsjsj92.tistory.com/548\n"
   ]
  },
  {
   "cell_type": "code",
   "execution_count": 45,
   "metadata": {},
   "outputs": [],
   "source": [
    "model = lgb.LGBMRegressor(**params)"
   ]
  },
  {
   "cell_type": "code",
   "execution_count": 46,
   "metadata": {},
   "outputs": [
    {
     "data": {
      "text/plain": [
       "LGBMRegressor(boosting_type='gbdt', class_weight=None, colsample_bytree=0.4,\n",
       "              importance_type='split', learning_rate=0.01, max_depth=20,\n",
       "              metric='rmse', min_child_samples=5, min_child_weight=0.001,\n",
       "              min_split_gain=0.0, n_estimators=10000, n_jobs=-1, num_leaves=127,\n",
       "              objective='regression', random_state=None, reg_alpha=0.0,\n",
       "              reg_lambda=0.0, silent=True, subsample=1.0,\n",
       "              subsample_for_bin=200000, subsample_freq=0)"
      ]
     },
     "execution_count": 46,
     "metadata": {},
     "output_type": "execute_result"
    }
   ],
   "source": [
    "model"
   ]
  },
  {
   "cell_type": "code",
   "execution_count": 47,
   "metadata": {},
   "outputs": [],
   "source": [
    "params_fit = {'early_stopping_rounds':100,\n",
    "             'feature_name':numerical_columns+categorical_columns,\n",
    "             'categorical_feature':categorical_columns,\n",
    "             'eval_set':[(X_train,y_train), (X_valid, y_valid)]\n",
    "             }"
   ]
  },
  {
   "cell_type": "code",
   "execution_count": 48,
   "metadata": {},
   "outputs": [
    {
     "name": "stdout",
     "output_type": "stream",
     "text": [
      "Training until validation scores don't improve for 100 rounds\n",
      "[500]\ttraining's rmse: 0.489794\tvalid_1's rmse: 0.538008\n",
      "[1000]\ttraining's rmse: 0.448842\tvalid_1's rmse: 0.510759\n",
      "[1500]\ttraining's rmse: 0.430766\tvalid_1's rmse: 0.501639\n",
      "[2000]\ttraining's rmse: 0.42062\tvalid_1's rmse: 0.497379\n",
      "[2500]\ttraining's rmse: 0.413151\tvalid_1's rmse: 0.494632\n",
      "[3000]\ttraining's rmse: 0.407727\tvalid_1's rmse: 0.493009\n",
      "[3500]\ttraining's rmse: 0.402698\tvalid_1's rmse: 0.49139\n",
      "[4000]\ttraining's rmse: 0.398055\tvalid_1's rmse: 0.490194\n",
      "[4500]\ttraining's rmse: 0.39421\tvalid_1's rmse: 0.489397\n",
      "[5000]\ttraining's rmse: 0.390514\tvalid_1's rmse: 0.488749\n",
      "[5500]\ttraining's rmse: 0.387084\tvalid_1's rmse: 0.488259\n",
      "[6000]\ttraining's rmse: 0.383807\tvalid_1's rmse: 0.487633\n",
      "[6500]\ttraining's rmse: 0.380644\tvalid_1's rmse: 0.486929\n",
      "[7000]\ttraining's rmse: 0.377476\tvalid_1's rmse: 0.486452\n",
      "[7500]\ttraining's rmse: 0.374249\tvalid_1's rmse: 0.485705\n",
      "[8000]\ttraining's rmse: 0.371152\tvalid_1's rmse: 0.485236\n",
      "[8500]\ttraining's rmse: 0.368225\tvalid_1's rmse: 0.484856\n",
      "Early stopping, best iteration is:\n",
      "[8802]\ttraining's rmse: 0.366854\tvalid_1's rmse: 0.484734\n"
     ]
    },
    {
     "data": {
      "text/plain": [
       "LGBMRegressor(boosting_type='gbdt', class_weight=None, colsample_bytree=0.4,\n",
       "              importance_type='split', learning_rate=0.01, max_depth=20,\n",
       "              metric='rmse', min_child_samples=5, min_child_weight=0.001,\n",
       "              min_split_gain=0.0, n_estimators=10000, n_jobs=-1, num_leaves=127,\n",
       "              objective='regression', random_state=None, reg_alpha=0.0,\n",
       "              reg_lambda=0.0, silent=True, subsample=1.0,\n",
       "              subsample_for_bin=200000, subsample_freq=0)"
      ]
     },
     "execution_count": 48,
     "metadata": {},
     "output_type": "execute_result"
    }
   ],
   "source": [
    "model.fit(X_train, y_train, **params_fit, verbose=500)"
   ]
  },
  {
   "cell_type": "code",
   "execution_count": 49,
   "metadata": {},
   "outputs": [],
   "source": [
    "X = df_test[categorical_columns + numerical_columns]"
   ]
  },
  {
   "cell_type": "code",
   "execution_count": 50,
   "metadata": {},
   "outputs": [],
   "source": [
    "pred = model.predict(X)"
   ]
  },
  {
   "cell_type": "code",
   "execution_count": 51,
   "metadata": {},
   "outputs": [],
   "source": [
    "pred = np.expm1(pred)"
   ]
  },
  {
   "cell_type": "code",
   "execution_count": 52,
   "metadata": {},
   "outputs": [],
   "source": [
    "submission_df = df_test.copy()\n",
    "submission_df['num_orders'] = pred\n",
    "submission_df = submission_df[['id', 'num_orders']]\n",
    "submission_df.to_csv('submission_log_numorders_price_diff_big_diff_best_param.csv', index=False)"
   ]
  },
  {
   "cell_type": "code",
   "execution_count": 53,
   "metadata": {},
   "outputs": [
    {
     "data": {
      "text/html": [
       "<div>\n",
       "<style scoped>\n",
       "    .dataframe tbody tr th:only-of-type {\n",
       "        vertical-align: middle;\n",
       "    }\n",
       "\n",
       "    .dataframe tbody tr th {\n",
       "        vertical-align: top;\n",
       "    }\n",
       "\n",
       "    .dataframe thead th {\n",
       "        text-align: right;\n",
       "    }\n",
       "</style>\n",
       "<table border=\"1\" class=\"dataframe\">\n",
       "  <thead>\n",
       "    <tr style=\"text-align: right;\">\n",
       "      <th></th>\n",
       "      <th>id</th>\n",
       "      <th>num_orders</th>\n",
       "    </tr>\n",
       "  </thead>\n",
       "  <tbody>\n",
       "  </tbody>\n",
       "</table>\n",
       "</div>"
      ],
      "text/plain": [
       "Empty DataFrame\n",
       "Columns: [id, num_orders]\n",
       "Index: []"
      ]
     },
     "execution_count": 53,
     "metadata": {},
     "output_type": "execute_result"
    }
   ],
   "source": [
    "submission_df[submission_df['num_orders']<1]"
   ]
  },
  {
   "cell_type": "markdown",
   "metadata": {},
   "source": [
    "(Result)\n",
    "* Baseline modeling : score = 60.6642916161, 1,344명중 521등, 상위 38% rank\n",
    "* 1차 피쳐엔지니어링 & parameter tuning : score = 55.5030926505, 1,344명중 267등, 상위 19% rank\n",
    "\n",
    "(NEXT)\n",
    "* 2차 피쳐엔지니어링 또는 다른 모델 적용?"
   ]
  },
  {
   "cell_type": "markdown",
   "metadata": {},
   "source": [
    "### (grid search for hyperparameter)"
   ]
  },
  {
   "cell_type": "code",
   "execution_count": 22,
   "metadata": {
    "scrolled": false
   },
   "outputs": [
    {
     "name": "stdout",
     "output_type": "stream",
     "text": [
      "param grid 0/26\n",
      "[1000]\ttraining's l2: 0.256479\tvalid_1's l2: 0.26472\n",
      "[2000]\ttraining's l2: 0.230352\tvalid_1's l2: 0.237476\n",
      "[3000]\ttraining's l2: 0.218373\tvalid_1's l2: 0.22785\n",
      "[4000]\ttraining's l2: 0.209887\tvalid_1's l2: 0.222574\n",
      "[5000]\ttraining's l2: 0.203698\tvalid_1's l2: 0.219712\n",
      "[6000]\ttraining's l2: 0.198551\tvalid_1's l2: 0.217401\n",
      "[7000]\ttraining's l2: 0.194274\tvalid_1's l2: 0.215379\n",
      "[8000]\ttraining's l2: 0.190545\tvalid_1's l2: 0.213849\n",
      "[9000]\ttraining's l2: 0.18741\tvalid_1's l2: 0.212658\n",
      "[10000]\ttraining's l2: 0.184416\tvalid_1's l2: 0.211811\n",
      "param grid 1/26\n",
      "[1000]\ttraining's l2: 0.214608\tvalid_1's l2: 0.232245\n",
      "[2000]\ttraining's l2: 0.192685\tvalid_1's l2: 0.217901\n",
      "[3000]\ttraining's l2: 0.181583\tvalid_1's l2: 0.211864\n",
      "[4000]\ttraining's l2: 0.173773\tvalid_1's l2: 0.209293\n",
      "[5000]\ttraining's l2: 0.167615\tvalid_1's l2: 0.207727\n",
      "[6000]\ttraining's l2: 0.162517\tvalid_1's l2: 0.207206\n",
      "[7000]\ttraining's l2: 0.158296\tvalid_1's l2: 0.207418\n",
      "[8000]\ttraining's l2: 0.154429\tvalid_1's l2: 0.206999\n",
      "[9000]\ttraining's l2: 0.151037\tvalid_1's l2: 0.206939\n",
      "[10000]\ttraining's l2: 0.147966\tvalid_1's l2: 0.206708\n",
      "param grid 2/26\n",
      "[1000]\ttraining's l2: 0.196677\tvalid_1's l2: 0.221317\n",
      "[2000]\ttraining's l2: 0.175191\tvalid_1's l2: 0.210252\n",
      "[3000]\ttraining's l2: 0.163998\tvalid_1's l2: 0.207353\n",
      "[4000]\ttraining's l2: 0.155833\tvalid_1's l2: 0.206625\n",
      "[5000]\ttraining's l2: 0.149291\tvalid_1's l2: 0.20686\n",
      "[6000]\ttraining's l2: 0.143735\tvalid_1's l2: 0.206932\n",
      "[7000]\ttraining's l2: 0.139086\tvalid_1's l2: 0.207305\n",
      "[8000]\ttraining's l2: 0.134779\tvalid_1's l2: 0.208\n",
      "[9000]\ttraining's l2: 0.13071\tvalid_1's l2: 0.208226\n",
      "[10000]\ttraining's l2: 0.127002\tvalid_1's l2: 0.208456\n",
      "param grid 3/26\n",
      "[1000]\ttraining's l2: 0.256846\tvalid_1's l2: 0.265013\n",
      "[2000]\ttraining's l2: 0.230578\tvalid_1's l2: 0.23544\n",
      "[3000]\ttraining's l2: 0.218093\tvalid_1's l2: 0.226656\n",
      "[4000]\ttraining's l2: 0.21018\tvalid_1's l2: 0.22217\n",
      "[5000]\ttraining's l2: 0.203703\tvalid_1's l2: 0.218908\n",
      "[6000]\ttraining's l2: 0.198716\tvalid_1's l2: 0.216376\n",
      "[7000]\ttraining's l2: 0.194508\tvalid_1's l2: 0.214772\n",
      "[8000]\ttraining's l2: 0.190584\tvalid_1's l2: 0.212536\n",
      "[9000]\ttraining's l2: 0.187457\tvalid_1's l2: 0.21143\n",
      "[10000]\ttraining's l2: 0.184456\tvalid_1's l2: 0.210927\n",
      "param grid 4/26\n",
      "[1000]\ttraining's l2: 0.214643\tvalid_1's l2: 0.232289\n",
      "[2000]\ttraining's l2: 0.192782\tvalid_1's l2: 0.218259\n",
      "[3000]\ttraining's l2: 0.181729\tvalid_1's l2: 0.212031\n",
      "[4000]\ttraining's l2: 0.174205\tvalid_1's l2: 0.209493\n",
      "[5000]\ttraining's l2: 0.167955\tvalid_1's l2: 0.208243\n",
      "[6000]\ttraining's l2: 0.163039\tvalid_1's l2: 0.20728\n",
      "[7000]\ttraining's l2: 0.158605\tvalid_1's l2: 0.206932\n",
      "[8000]\ttraining's l2: 0.154757\tvalid_1's l2: 0.206723\n",
      "[9000]\ttraining's l2: 0.151304\tvalid_1's l2: 0.206433\n",
      "[10000]\ttraining's l2: 0.148329\tvalid_1's l2: 0.20672\n",
      "param grid 5/26\n",
      "[1000]\ttraining's l2: 0.196749\tvalid_1's l2: 0.221987\n",
      "[2000]\ttraining's l2: 0.175467\tvalid_1's l2: 0.210652\n",
      "[3000]\ttraining's l2: 0.164546\tvalid_1's l2: 0.207371\n",
      "[4000]\ttraining's l2: 0.156409\tvalid_1's l2: 0.206668\n",
      "[5000]\ttraining's l2: 0.1499\tvalid_1's l2: 0.206608\n",
      "[6000]\ttraining's l2: 0.144367\tvalid_1's l2: 0.207116\n",
      "[7000]\ttraining's l2: 0.139498\tvalid_1's l2: 0.207316\n",
      "[8000]\ttraining's l2: 0.135132\tvalid_1's l2: 0.207923\n",
      "[9000]\ttraining's l2: 0.131229\tvalid_1's l2: 0.208376\n",
      "[10000]\ttraining's l2: 0.127652\tvalid_1's l2: 0.209122\n",
      "param grid 6/26\n",
      "[1000]\ttraining's l2: 0.256308\tvalid_1's l2: 0.265005\n",
      "[2000]\ttraining's l2: 0.230392\tvalid_1's l2: 0.236422\n",
      "[3000]\ttraining's l2: 0.21806\tvalid_1's l2: 0.226979\n",
      "[4000]\ttraining's l2: 0.210093\tvalid_1's l2: 0.22232\n",
      "[5000]\ttraining's l2: 0.203782\tvalid_1's l2: 0.2195\n",
      "[6000]\ttraining's l2: 0.198742\tvalid_1's l2: 0.216534\n",
      "[7000]\ttraining's l2: 0.194548\tvalid_1's l2: 0.214444\n",
      "[8000]\ttraining's l2: 0.190713\tvalid_1's l2: 0.212935\n",
      "[9000]\ttraining's l2: 0.187685\tvalid_1's l2: 0.21157\n",
      "[10000]\ttraining's l2: 0.184916\tvalid_1's l2: 0.210707\n",
      "param grid 7/26\n",
      "[1000]\ttraining's l2: 0.214857\tvalid_1's l2: 0.232079\n",
      "[2000]\ttraining's l2: 0.192768\tvalid_1's l2: 0.218282\n",
      "[3000]\ttraining's l2: 0.182054\tvalid_1's l2: 0.21229\n",
      "[4000]\ttraining's l2: 0.174474\tvalid_1's l2: 0.210353\n",
      "[5000]\ttraining's l2: 0.168661\tvalid_1's l2: 0.208889\n",
      "[6000]\ttraining's l2: 0.16366\tvalid_1's l2: 0.20807\n",
      "[7000]\ttraining's l2: 0.159477\tvalid_1's l2: 0.207671\n",
      "[8000]\ttraining's l2: 0.155832\tvalid_1's l2: 0.2078\n",
      "[9000]\ttraining's l2: 0.152458\tvalid_1's l2: 0.207831\n",
      "[10000]\ttraining's l2: 0.149365\tvalid_1's l2: 0.208321\n",
      "param grid 8/26\n",
      "[1000]\ttraining's l2: 0.197106\tvalid_1's l2: 0.221515\n",
      "[2000]\ttraining's l2: 0.175937\tvalid_1's l2: 0.210548\n",
      "[3000]\ttraining's l2: 0.165083\tvalid_1's l2: 0.20768\n",
      "[4000]\ttraining's l2: 0.157109\tvalid_1's l2: 0.206828\n",
      "[5000]\ttraining's l2: 0.150751\tvalid_1's l2: 0.206701\n",
      "[6000]\ttraining's l2: 0.145304\tvalid_1's l2: 0.2069\n",
      "[7000]\ttraining's l2: 0.140525\tvalid_1's l2: 0.206836\n",
      "[8000]\ttraining's l2: 0.13634\tvalid_1's l2: 0.207033\n",
      "[9000]\ttraining's l2: 0.132653\tvalid_1's l2: 0.207229\n",
      "[10000]\ttraining's l2: 0.129227\tvalid_1's l2: 0.208136\n",
      "param grid 9/26\n",
      "[1000]\ttraining's l2: 0.246952\tvalid_1's l2: 0.251446\n",
      "[2000]\ttraining's l2: 0.223214\tvalid_1's l2: 0.228648\n",
      "[3000]\ttraining's l2: 0.211874\tvalid_1's l2: 0.222101\n",
      "[4000]\ttraining's l2: 0.203429\tvalid_1's l2: 0.219265\n",
      "[5000]\ttraining's l2: 0.197098\tvalid_1's l2: 0.217343\n",
      "[6000]\ttraining's l2: 0.191994\tvalid_1's l2: 0.215945\n",
      "[7000]\ttraining's l2: 0.187808\tvalid_1's l2: 0.2148\n",
      "[8000]\ttraining's l2: 0.184238\tvalid_1's l2: 0.213995\n",
      "[9000]\ttraining's l2: 0.180698\tvalid_1's l2: 0.212944\n",
      "[10000]\ttraining's l2: 0.177703\tvalid_1's l2: 0.211764\n",
      "param grid 10/26\n",
      "[1000]\ttraining's l2: 0.205948\tvalid_1's l2: 0.223161\n",
      "[2000]\ttraining's l2: 0.185474\tvalid_1's l2: 0.213056\n",
      "[3000]\ttraining's l2: 0.174052\tvalid_1's l2: 0.208713\n",
      "[4000]\ttraining's l2: 0.165499\tvalid_1's l2: 0.207489\n",
      "[5000]\ttraining's l2: 0.158734\tvalid_1's l2: 0.207289\n",
      "[6000]\ttraining's l2: 0.153201\tvalid_1's l2: 0.207314\n",
      "[7000]\ttraining's l2: 0.148708\tvalid_1's l2: 0.207583\n",
      "[8000]\ttraining's l2: 0.144445\tvalid_1's l2: 0.20843\n",
      "[9000]\ttraining's l2: 0.140484\tvalid_1's l2: 0.20877\n",
      "[10000]\ttraining's l2: 0.136821\tvalid_1's l2: 0.209272\n",
      "param grid 11/26\n",
      "[1000]\ttraining's l2: 0.187609\tvalid_1's l2: 0.214735\n",
      "[2000]\ttraining's l2: 0.167226\tvalid_1's l2: 0.20704\n",
      "[3000]\ttraining's l2: 0.155249\tvalid_1's l2: 0.206279\n",
      "[4000]\ttraining's l2: 0.145596\tvalid_1's l2: 0.206564\n",
      "[5000]\ttraining's l2: 0.138153\tvalid_1's l2: 0.207331\n",
      "[6000]\ttraining's l2: 0.131797\tvalid_1's l2: 0.207887\n",
      "[7000]\ttraining's l2: 0.126156\tvalid_1's l2: 0.208654\n",
      "[8000]\ttraining's l2: 0.121086\tvalid_1's l2: 0.209459\n",
      "[9000]\ttraining's l2: 0.116367\tvalid_1's l2: 0.209575\n",
      "[10000]\ttraining's l2: 0.112044\tvalid_1's l2: 0.210135\n",
      "param grid 12/26\n",
      "[1000]\ttraining's l2: 0.247097\tvalid_1's l2: 0.252043\n",
      "[2000]\ttraining's l2: 0.22328\tvalid_1's l2: 0.228644\n",
      "[3000]\ttraining's l2: 0.211744\tvalid_1's l2: 0.221891\n",
      "[4000]\ttraining's l2: 0.203637\tvalid_1's l2: 0.218964\n",
      "[5000]\ttraining's l2: 0.19746\tvalid_1's l2: 0.217014\n",
      "[6000]\ttraining's l2: 0.192334\tvalid_1's l2: 0.215516\n",
      "[7000]\ttraining's l2: 0.187762\tvalid_1's l2: 0.214244\n",
      "[8000]\ttraining's l2: 0.183953\tvalid_1's l2: 0.212808\n",
      "[9000]\ttraining's l2: 0.180665\tvalid_1's l2: 0.211812\n",
      "[10000]\ttraining's l2: 0.177567\tvalid_1's l2: 0.210848\n",
      "param grid 13/26\n",
      "[1000]\ttraining's l2: 0.205937\tvalid_1's l2: 0.222997\n",
      "[2000]\ttraining's l2: 0.185369\tvalid_1's l2: 0.213813\n",
      "[3000]\ttraining's l2: 0.173795\tvalid_1's l2: 0.209391\n",
      "[4000]\ttraining's l2: 0.165427\tvalid_1's l2: 0.208139\n",
      "[5000]\ttraining's l2: 0.158794\tvalid_1's l2: 0.207582\n",
      "[6000]\ttraining's l2: 0.153114\tvalid_1's l2: 0.207359\n",
      "[7000]\ttraining's l2: 0.148548\tvalid_1's l2: 0.207436\n",
      "[8000]\ttraining's l2: 0.144456\tvalid_1's l2: 0.207792\n",
      "[9000]\ttraining's l2: 0.140415\tvalid_1's l2: 0.207893\n",
      "[10000]\ttraining's l2: 0.136615\tvalid_1's l2: 0.207852\n",
      "param grid 14/26\n",
      "[1000]\ttraining's l2: 0.187714\tvalid_1's l2: 0.214982\n",
      "[2000]\ttraining's l2: 0.167261\tvalid_1's l2: 0.207451\n",
      "[3000]\ttraining's l2: 0.155602\tvalid_1's l2: 0.205629\n",
      "[4000]\ttraining's l2: 0.146189\tvalid_1's l2: 0.205328\n",
      "[5000]\ttraining's l2: 0.138804\tvalid_1's l2: 0.205542\n",
      "[6000]\ttraining's l2: 0.132504\tvalid_1's l2: 0.206034\n",
      "[7000]\ttraining's l2: 0.127016\tvalid_1's l2: 0.206178\n",
      "[8000]\ttraining's l2: 0.122197\tvalid_1's l2: 0.206946\n"
     ]
    },
    {
     "name": "stdout",
     "output_type": "stream",
     "text": [
      "[9000]\ttraining's l2: 0.117538\tvalid_1's l2: 0.20784\n",
      "[10000]\ttraining's l2: 0.113199\tvalid_1's l2: 0.207976\n",
      "param grid 15/26\n",
      "[1000]\ttraining's l2: 0.246994\tvalid_1's l2: 0.251855\n",
      "[2000]\ttraining's l2: 0.223297\tvalid_1's l2: 0.228997\n",
      "[3000]\ttraining's l2: 0.211787\tvalid_1's l2: 0.22228\n",
      "[4000]\ttraining's l2: 0.203539\tvalid_1's l2: 0.219373\n",
      "[5000]\ttraining's l2: 0.197071\tvalid_1's l2: 0.217544\n",
      "[6000]\ttraining's l2: 0.191929\tvalid_1's l2: 0.216092\n",
      "[7000]\ttraining's l2: 0.187736\tvalid_1's l2: 0.213979\n",
      "[8000]\ttraining's l2: 0.184016\tvalid_1's l2: 0.212673\n",
      "[9000]\ttraining's l2: 0.180859\tvalid_1's l2: 0.211741\n",
      "[10000]\ttraining's l2: 0.177673\tvalid_1's l2: 0.211276\n",
      "param grid 16/26\n",
      "[1000]\ttraining's l2: 0.205954\tvalid_1's l2: 0.223076\n",
      "[2000]\ttraining's l2: 0.185406\tvalid_1's l2: 0.213557\n",
      "[3000]\ttraining's l2: 0.174096\tvalid_1's l2: 0.209346\n",
      "[4000]\ttraining's l2: 0.165914\tvalid_1's l2: 0.207944\n",
      "[5000]\ttraining's l2: 0.159386\tvalid_1's l2: 0.207702\n",
      "[6000]\ttraining's l2: 0.153974\tvalid_1's l2: 0.208223\n",
      "[7000]\ttraining's l2: 0.149448\tvalid_1's l2: 0.208871\n",
      "[8000]\ttraining's l2: 0.145256\tvalid_1's l2: 0.20884\n",
      "[9000]\ttraining's l2: 0.141443\tvalid_1's l2: 0.20889\n",
      "[10000]\ttraining's l2: 0.137902\tvalid_1's l2: 0.208827\n",
      "param grid 17/26\n",
      "[1000]\ttraining's l2: 0.18805\tvalid_1's l2: 0.214567\n",
      "[2000]\ttraining's l2: 0.167576\tvalid_1's l2: 0.206728\n",
      "[3000]\ttraining's l2: 0.15554\tvalid_1's l2: 0.205387\n",
      "[4000]\ttraining's l2: 0.146814\tvalid_1's l2: 0.205777\n",
      "[5000]\ttraining's l2: 0.139481\tvalid_1's l2: 0.206097\n",
      "[6000]\ttraining's l2: 0.133199\tvalid_1's l2: 0.206955\n",
      "[7000]\ttraining's l2: 0.127892\tvalid_1's l2: 0.207286\n",
      "[8000]\ttraining's l2: 0.123136\tvalid_1's l2: 0.207605\n",
      "[9000]\ttraining's l2: 0.118811\tvalid_1's l2: 0.208132\n",
      "[10000]\ttraining's l2: 0.11467\tvalid_1's l2: 0.20854\n",
      "param grid 18/26\n",
      "[1000]\ttraining's l2: 0.243542\tvalid_1's l2: 0.246515\n",
      "[2000]\ttraining's l2: 0.220448\tvalid_1's l2: 0.226737\n",
      "[3000]\ttraining's l2: 0.208496\tvalid_1's l2: 0.220664\n",
      "[4000]\ttraining's l2: 0.20024\tvalid_1's l2: 0.218266\n",
      "[5000]\ttraining's l2: 0.193787\tvalid_1's l2: 0.216485\n",
      "[6000]\ttraining's l2: 0.18871\tvalid_1's l2: 0.214905\n",
      "[7000]\ttraining's l2: 0.184033\tvalid_1's l2: 0.212965\n",
      "[8000]\ttraining's l2: 0.180338\tvalid_1's l2: 0.212356\n",
      "[9000]\ttraining's l2: 0.176981\tvalid_1's l2: 0.212298\n",
      "[10000]\ttraining's l2: 0.174003\tvalid_1's l2: 0.212641\n",
      "param grid 19/26\n",
      "[1000]\ttraining's l2: 0.202553\tvalid_1's l2: 0.220073\n",
      "[2000]\ttraining's l2: 0.181875\tvalid_1's l2: 0.21309\n",
      "[3000]\ttraining's l2: 0.170056\tvalid_1's l2: 0.209493\n",
      "[4000]\ttraining's l2: 0.161518\tvalid_1's l2: 0.208859\n",
      "[5000]\ttraining's l2: 0.154435\tvalid_1's l2: 0.209167\n",
      "[6000]\ttraining's l2: 0.148582\tvalid_1's l2: 0.209487\n",
      "[7000]\ttraining's l2: 0.143463\tvalid_1's l2: 0.209662\n",
      "[8000]\ttraining's l2: 0.1392\tvalid_1's l2: 0.209933\n",
      "[9000]\ttraining's l2: 0.135145\tvalid_1's l2: 0.210492\n",
      "[10000]\ttraining's l2: 0.131277\tvalid_1's l2: 0.211115\n",
      "param grid 20/26\n",
      "[1000]\ttraining's l2: 0.184502\tvalid_1's l2: 0.212272\n",
      "[2000]\ttraining's l2: 0.163221\tvalid_1's l2: 0.208176\n",
      "[3000]\ttraining's l2: 0.150373\tvalid_1's l2: 0.206409\n",
      "[4000]\ttraining's l2: 0.140489\tvalid_1's l2: 0.206714\n",
      "[5000]\ttraining's l2: 0.132416\tvalid_1's l2: 0.207352\n",
      "[6000]\ttraining's l2: 0.125622\tvalid_1's l2: 0.208305\n",
      "[7000]\ttraining's l2: 0.119324\tvalid_1's l2: 0.208656\n",
      "[8000]\ttraining's l2: 0.11399\tvalid_1's l2: 0.209555\n",
      "[9000]\ttraining's l2: 0.109121\tvalid_1's l2: 0.210134\n",
      "[10000]\ttraining's l2: 0.104471\tvalid_1's l2: 0.210429\n",
      "param grid 21/26\n",
      "[1000]\ttraining's l2: 0.243738\tvalid_1's l2: 0.246385\n",
      "[2000]\ttraining's l2: 0.220527\tvalid_1's l2: 0.226823\n",
      "[3000]\ttraining's l2: 0.208442\tvalid_1's l2: 0.22063\n",
      "[4000]\ttraining's l2: 0.200022\tvalid_1's l2: 0.218211\n",
      "[5000]\ttraining's l2: 0.193346\tvalid_1's l2: 0.216565\n",
      "[6000]\ttraining's l2: 0.188306\tvalid_1's l2: 0.215594\n",
      "[7000]\ttraining's l2: 0.183939\tvalid_1's l2: 0.214772\n",
      "[8000]\ttraining's l2: 0.180137\tvalid_1's l2: 0.213102\n",
      "[9000]\ttraining's l2: 0.176612\tvalid_1's l2: 0.212213\n",
      "[10000]\ttraining's l2: 0.173764\tvalid_1's l2: 0.212368\n",
      "param grid 22/26\n",
      "[1000]\ttraining's l2: 0.202398\tvalid_1's l2: 0.219977\n",
      "[2000]\ttraining's l2: 0.182068\tvalid_1's l2: 0.212652\n",
      "[3000]\ttraining's l2: 0.17044\tvalid_1's l2: 0.210093\n",
      "[4000]\ttraining's l2: 0.161502\tvalid_1's l2: 0.208521\n",
      "[5000]\ttraining's l2: 0.154555\tvalid_1's l2: 0.20817\n",
      "[6000]\ttraining's l2: 0.14905\tvalid_1's l2: 0.209542\n",
      "[7000]\ttraining's l2: 0.144081\tvalid_1's l2: 0.209927\n",
      "[8000]\ttraining's l2: 0.139547\tvalid_1's l2: 0.21025\n",
      "[9000]\ttraining's l2: 0.135258\tvalid_1's l2: 0.21045\n",
      "[10000]\ttraining's l2: 0.131441\tvalid_1's l2: 0.211158\n",
      "param grid 23/26\n",
      "[1000]\ttraining's l2: 0.184603\tvalid_1's l2: 0.212789\n",
      "[2000]\ttraining's l2: 0.163611\tvalid_1's l2: 0.20659\n",
      "[3000]\ttraining's l2: 0.151177\tvalid_1's l2: 0.205939\n",
      "[4000]\ttraining's l2: 0.141059\tvalid_1's l2: 0.206182\n",
      "[5000]\ttraining's l2: 0.133232\tvalid_1's l2: 0.206664\n",
      "[6000]\ttraining's l2: 0.126411\tvalid_1's l2: 0.207495\n",
      "[7000]\ttraining's l2: 0.120483\tvalid_1's l2: 0.209313\n",
      "[8000]\ttraining's l2: 0.114996\tvalid_1's l2: 0.21022\n",
      "[9000]\ttraining's l2: 0.109998\tvalid_1's l2: 0.210657\n",
      "[10000]\ttraining's l2: 0.105368\tvalid_1's l2: 0.211479\n",
      "param grid 24/26\n",
      "[1000]\ttraining's l2: 0.243617\tvalid_1's l2: 0.246086\n",
      "[2000]\ttraining's l2: 0.220371\tvalid_1's l2: 0.226622\n",
      "[3000]\ttraining's l2: 0.208315\tvalid_1's l2: 0.220431\n",
      "[4000]\ttraining's l2: 0.199746\tvalid_1's l2: 0.217694\n",
      "[5000]\ttraining's l2: 0.193487\tvalid_1's l2: 0.216284\n",
      "[6000]\ttraining's l2: 0.188378\tvalid_1's l2: 0.215355\n",
      "[7000]\ttraining's l2: 0.183952\tvalid_1's l2: 0.213772\n",
      "[8000]\ttraining's l2: 0.180011\tvalid_1's l2: 0.211751\n",
      "[9000]\ttraining's l2: 0.176727\tvalid_1's l2: 0.21117\n",
      "[10000]\ttraining's l2: 0.173625\tvalid_1's l2: 0.210606\n",
      "param grid 25/26\n",
      "[1000]\ttraining's l2: 0.202828\tvalid_1's l2: 0.220917\n",
      "[2000]\ttraining's l2: 0.182452\tvalid_1's l2: 0.213665\n",
      "[3000]\ttraining's l2: 0.170636\tvalid_1's l2: 0.210385\n",
      "[4000]\ttraining's l2: 0.162164\tvalid_1's l2: 0.209373\n",
      "[5000]\ttraining's l2: 0.155437\tvalid_1's l2: 0.20926\n",
      "[6000]\ttraining's l2: 0.149636\tvalid_1's l2: 0.209139\n",
      "[7000]\ttraining's l2: 0.14485\tvalid_1's l2: 0.208912\n",
      "[8000]\ttraining's l2: 0.140479\tvalid_1's l2: 0.208927\n",
      "[9000]\ttraining's l2: 0.136228\tvalid_1's l2: 0.209061\n",
      "[10000]\ttraining's l2: 0.132622\tvalid_1's l2: 0.209452\n",
      "param grid 26/26\n",
      "[1000]\ttraining's l2: 0.184895\tvalid_1's l2: 0.21192\n",
      "[2000]\ttraining's l2: 0.163505\tvalid_1's l2: 0.207265\n",
      "[3000]\ttraining's l2: 0.151207\tvalid_1's l2: 0.206103\n",
      "[4000]\ttraining's l2: 0.141849\tvalid_1's l2: 0.206831\n",
      "[5000]\ttraining's l2: 0.134253\tvalid_1's l2: 0.2074\n",
      "[6000]\ttraining's l2: 0.127619\tvalid_1's l2: 0.207733\n",
      "[7000]\ttraining's l2: 0.121835\tvalid_1's l2: 0.208128\n",
      "[8000]\ttraining's l2: 0.116848\tvalid_1's l2: 0.208712\n",
      "[9000]\ttraining's l2: 0.112243\tvalid_1's l2: 0.209858\n",
      "[10000]\ttraining's l2: 0.108131\tvalid_1's l2: 0.210756\n",
      "Best score = 0.20670778806717974\n",
      "Best params =\n",
      "{'colsample_bytree': 0.4, 'min_child_samples': 5, 'num_leaves': 127}\n"
     ]
    }
   ],
   "source": [
    "scores = []\n",
    "params = []\n",
    "\n",
    "param_grid = {'num_leaves': [31, 127, 255],\n",
    "              'min_child_samples': [5, 10, 30],\n",
    "              'colsample_bytree': [0.4, 0.6, 0.8]}\n",
    "\n",
    "for i, g in enumerate(ParameterGrid(param_grid)):\n",
    "    print(\"param grid {}/{}\".format(i, len(ParameterGrid(param_grid)) - 1))\n",
    "    #pprint.pprint(g)\n",
    "    \n",
    "    estimator = lgb.LGBMRegressor(learning_rate=0.01,\n",
    "                              n_estimators=10000,\n",
    "                              silent=False,\n",
    "                              **g)\n",
    "    \n",
    "    fit_params = {'feature_name': categorical_columns + numerical_columns,\n",
    "                  'categorical_feature': categorical_columns,\n",
    "                  'eval_set': [(X_train, y_train), (X_valid, y_valid)]}\n",
    "\n",
    "    estimator.fit(X_train, y_train, **fit_params, verbose=1000)\n",
    "    \n",
    "    scores.append(estimator.best_score_['valid_1']['l2'])\n",
    "    params.append(g)\n",
    "\n",
    "\n",
    "print(\"Best score = {}\".format(np.min(scores)))\n",
    "print(\"Best params =\")\n",
    "print(params[np.argmin(scores)])"
   ]
  },
  {
   "cell_type": "code",
   "execution_count": null,
   "metadata": {},
   "outputs": [],
   "source": []
  }
 ],
 "metadata": {
  "kernelspec": {
   "display_name": "Python 3",
   "language": "python",
   "name": "python3"
  },
  "language_info": {
   "codemirror_mode": {
    "name": "ipython",
    "version": 3
   },
   "file_extension": ".py",
   "mimetype": "text/x-python",
   "name": "python",
   "nbconvert_exporter": "python",
   "pygments_lexer": "ipython3",
   "version": "3.7.4"
  }
 },
 "nbformat": 4,
 "nbformat_minor": 2
}
