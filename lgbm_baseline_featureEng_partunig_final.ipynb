{
 "cells": [
  {
   "cell_type": "markdown",
   "metadata": {},
   "source": [
    "## Food Demand Forecasting Challenge(Practice Problem at analytics Vidhya)\n",
    " \n",
    "* about : https://datahack.analyticsvidhya.com/contest/genpact-machine-learning-hackathon-1/#About) \n",
    "* data description : https://datahack.analyticsvidhya.com/contest/genpact-machine-learning-hackathon-1/#ProblemStatement\n",
    "* forecasting target : num_orders\n",
    "* Evaluation : 100 * RMSLE ( root of mean squared logarithmic error )\n",
    "\n",
    "\n",
    "## 3. Feature Engineering  & Parameter tuning"
   ]
  },
  {
   "cell_type": "code",
   "execution_count": 155,
   "metadata": {},
   "outputs": [],
   "source": [
    "import pandas as pd\n",
    "import numpy as np\n",
    "from sklearn import preprocessing\n",
    "import lightgbm as lgb\n",
    "from sklearn.model_selection import train_test_split,ParameterGrid\n",
    "from sklearn.metrics import mean_squared_error\n",
    "\n",
    "import warnings\n",
    "warnings.filterwarnings(\"ignore\")"
   ]
  },
  {
   "cell_type": "code",
   "execution_count": 317,
   "metadata": {},
   "outputs": [],
   "source": [
    "df_train = pd.read_csv('./data/train.csv')\n",
    "df_test = pd.read_csv('./data/test.csv')\n",
    "df_info_meal = pd.read_csv('./data/meal_info.csv')\n",
    "df_info_fulfil = pd.read_csv('./data/fulfilment_center_info.csv')"
   ]
  },
  {
   "cell_type": "code",
   "execution_count": 318,
   "metadata": {},
   "outputs": [],
   "source": [
    "df_train = pd.merge(df_train, df_info_fulfil,\n",
    "                    how=\"left\",\n",
    "                    left_on='center_id',\n",
    "                    right_on='center_id')\n",
    "\n",
    "df_train = pd.merge(df_train, df_info_meal,\n",
    "                    how='left',\n",
    "                    left_on='meal_id',\n",
    "                    right_on='meal_id')"
   ]
  },
  {
   "cell_type": "code",
   "execution_count": 319,
   "metadata": {},
   "outputs": [
    {
     "data": {
      "text/html": [
       "<div>\n",
       "<style scoped>\n",
       "    .dataframe tbody tr th:only-of-type {\n",
       "        vertical-align: middle;\n",
       "    }\n",
       "\n",
       "    .dataframe tbody tr th {\n",
       "        vertical-align: top;\n",
       "    }\n",
       "\n",
       "    .dataframe thead th {\n",
       "        text-align: right;\n",
       "    }\n",
       "</style>\n",
       "<table border=\"1\" class=\"dataframe\">\n",
       "  <thead>\n",
       "    <tr style=\"text-align: right;\">\n",
       "      <th></th>\n",
       "      <th>id</th>\n",
       "      <th>week</th>\n",
       "      <th>center_id</th>\n",
       "      <th>meal_id</th>\n",
       "      <th>checkout_price</th>\n",
       "      <th>base_price</th>\n",
       "      <th>emailer_for_promotion</th>\n",
       "      <th>homepage_featured</th>\n",
       "      <th>num_orders</th>\n",
       "      <th>city_code</th>\n",
       "      <th>region_code</th>\n",
       "      <th>center_type</th>\n",
       "      <th>op_area</th>\n",
       "      <th>category</th>\n",
       "      <th>cuisine</th>\n",
       "    </tr>\n",
       "  </thead>\n",
       "  <tbody>\n",
       "    <tr>\n",
       "      <th>0</th>\n",
       "      <td>1379560</td>\n",
       "      <td>1</td>\n",
       "      <td>55</td>\n",
       "      <td>1885</td>\n",
       "      <td>136.83</td>\n",
       "      <td>152.29</td>\n",
       "      <td>0</td>\n",
       "      <td>0</td>\n",
       "      <td>177</td>\n",
       "      <td>647</td>\n",
       "      <td>56</td>\n",
       "      <td>TYPE_C</td>\n",
       "      <td>2.0</td>\n",
       "      <td>Beverages</td>\n",
       "      <td>Thai</td>\n",
       "    </tr>\n",
       "    <tr>\n",
       "      <th>1</th>\n",
       "      <td>1466964</td>\n",
       "      <td>1</td>\n",
       "      <td>55</td>\n",
       "      <td>1993</td>\n",
       "      <td>136.83</td>\n",
       "      <td>135.83</td>\n",
       "      <td>0</td>\n",
       "      <td>0</td>\n",
       "      <td>270</td>\n",
       "      <td>647</td>\n",
       "      <td>56</td>\n",
       "      <td>TYPE_C</td>\n",
       "      <td>2.0</td>\n",
       "      <td>Beverages</td>\n",
       "      <td>Thai</td>\n",
       "    </tr>\n",
       "    <tr>\n",
       "      <th>2</th>\n",
       "      <td>1346989</td>\n",
       "      <td>1</td>\n",
       "      <td>55</td>\n",
       "      <td>2539</td>\n",
       "      <td>134.86</td>\n",
       "      <td>135.86</td>\n",
       "      <td>0</td>\n",
       "      <td>0</td>\n",
       "      <td>189</td>\n",
       "      <td>647</td>\n",
       "      <td>56</td>\n",
       "      <td>TYPE_C</td>\n",
       "      <td>2.0</td>\n",
       "      <td>Beverages</td>\n",
       "      <td>Thai</td>\n",
       "    </tr>\n",
       "    <tr>\n",
       "      <th>3</th>\n",
       "      <td>1338232</td>\n",
       "      <td>1</td>\n",
       "      <td>55</td>\n",
       "      <td>2139</td>\n",
       "      <td>339.50</td>\n",
       "      <td>437.53</td>\n",
       "      <td>0</td>\n",
       "      <td>0</td>\n",
       "      <td>54</td>\n",
       "      <td>647</td>\n",
       "      <td>56</td>\n",
       "      <td>TYPE_C</td>\n",
       "      <td>2.0</td>\n",
       "      <td>Beverages</td>\n",
       "      <td>Indian</td>\n",
       "    </tr>\n",
       "    <tr>\n",
       "      <th>4</th>\n",
       "      <td>1448490</td>\n",
       "      <td>1</td>\n",
       "      <td>55</td>\n",
       "      <td>2631</td>\n",
       "      <td>243.50</td>\n",
       "      <td>242.50</td>\n",
       "      <td>0</td>\n",
       "      <td>0</td>\n",
       "      <td>40</td>\n",
       "      <td>647</td>\n",
       "      <td>56</td>\n",
       "      <td>TYPE_C</td>\n",
       "      <td>2.0</td>\n",
       "      <td>Beverages</td>\n",
       "      <td>Indian</td>\n",
       "    </tr>\n",
       "  </tbody>\n",
       "</table>\n",
       "</div>"
      ],
      "text/plain": [
       "        id  week  center_id  meal_id  checkout_price  base_price  \\\n",
       "0  1379560     1         55     1885          136.83      152.29   \n",
       "1  1466964     1         55     1993          136.83      135.83   \n",
       "2  1346989     1         55     2539          134.86      135.86   \n",
       "3  1338232     1         55     2139          339.50      437.53   \n",
       "4  1448490     1         55     2631          243.50      242.50   \n",
       "\n",
       "   emailer_for_promotion  homepage_featured  num_orders  city_code  \\\n",
       "0                      0                  0         177        647   \n",
       "1                      0                  0         270        647   \n",
       "2                      0                  0         189        647   \n",
       "3                      0                  0          54        647   \n",
       "4                      0                  0          40        647   \n",
       "\n",
       "   region_code center_type  op_area   category cuisine  \n",
       "0           56      TYPE_C      2.0  Beverages    Thai  \n",
       "1           56      TYPE_C      2.0  Beverages    Thai  \n",
       "2           56      TYPE_C      2.0  Beverages    Thai  \n",
       "3           56      TYPE_C      2.0  Beverages  Indian  \n",
       "4           56      TYPE_C      2.0  Beverages  Indian  "
      ]
     },
     "execution_count": 319,
     "metadata": {},
     "output_type": "execute_result"
    }
   ],
   "source": [
    "df_train.head()"
   ]
  },
  {
   "cell_type": "code",
   "execution_count": 320,
   "metadata": {},
   "outputs": [
    {
     "data": {
      "text/html": [
       "<div>\n",
       "<style scoped>\n",
       "    .dataframe tbody tr th:only-of-type {\n",
       "        vertical-align: middle;\n",
       "    }\n",
       "\n",
       "    .dataframe tbody tr th {\n",
       "        vertical-align: top;\n",
       "    }\n",
       "\n",
       "    .dataframe thead th {\n",
       "        text-align: right;\n",
       "    }\n",
       "</style>\n",
       "<table border=\"1\" class=\"dataframe\">\n",
       "  <thead>\n",
       "    <tr style=\"text-align: right;\">\n",
       "      <th></th>\n",
       "      <th>id</th>\n",
       "      <th>week</th>\n",
       "      <th>center_id</th>\n",
       "      <th>meal_id</th>\n",
       "      <th>checkout_price</th>\n",
       "      <th>base_price</th>\n",
       "      <th>emailer_for_promotion</th>\n",
       "      <th>homepage_featured</th>\n",
       "      <th>num_orders</th>\n",
       "      <th>city_code</th>\n",
       "      <th>region_code</th>\n",
       "      <th>center_type</th>\n",
       "      <th>op_area</th>\n",
       "      <th>category</th>\n",
       "      <th>cuisine</th>\n",
       "    </tr>\n",
       "  </thead>\n",
       "  <tbody>\n",
       "    <tr>\n",
       "      <th>0</th>\n",
       "      <td>1379560</td>\n",
       "      <td>1</td>\n",
       "      <td>55</td>\n",
       "      <td>1885</td>\n",
       "      <td>136.83</td>\n",
       "      <td>152.29</td>\n",
       "      <td>0</td>\n",
       "      <td>0</td>\n",
       "      <td>177</td>\n",
       "      <td>647</td>\n",
       "      <td>56</td>\n",
       "      <td>TYPE_C</td>\n",
       "      <td>2.0</td>\n",
       "      <td>Beverages</td>\n",
       "      <td>Thai</td>\n",
       "    </tr>\n",
       "    <tr>\n",
       "      <th>1</th>\n",
       "      <td>1466964</td>\n",
       "      <td>1</td>\n",
       "      <td>55</td>\n",
       "      <td>1993</td>\n",
       "      <td>136.83</td>\n",
       "      <td>135.83</td>\n",
       "      <td>0</td>\n",
       "      <td>0</td>\n",
       "      <td>270</td>\n",
       "      <td>647</td>\n",
       "      <td>56</td>\n",
       "      <td>TYPE_C</td>\n",
       "      <td>2.0</td>\n",
       "      <td>Beverages</td>\n",
       "      <td>Thai</td>\n",
       "    </tr>\n",
       "    <tr>\n",
       "      <th>2</th>\n",
       "      <td>1346989</td>\n",
       "      <td>1</td>\n",
       "      <td>55</td>\n",
       "      <td>2539</td>\n",
       "      <td>134.86</td>\n",
       "      <td>135.86</td>\n",
       "      <td>0</td>\n",
       "      <td>0</td>\n",
       "      <td>189</td>\n",
       "      <td>647</td>\n",
       "      <td>56</td>\n",
       "      <td>TYPE_C</td>\n",
       "      <td>2.0</td>\n",
       "      <td>Beverages</td>\n",
       "      <td>Thai</td>\n",
       "    </tr>\n",
       "    <tr>\n",
       "      <th>3</th>\n",
       "      <td>1338232</td>\n",
       "      <td>1</td>\n",
       "      <td>55</td>\n",
       "      <td>2139</td>\n",
       "      <td>339.50</td>\n",
       "      <td>437.53</td>\n",
       "      <td>0</td>\n",
       "      <td>0</td>\n",
       "      <td>54</td>\n",
       "      <td>647</td>\n",
       "      <td>56</td>\n",
       "      <td>TYPE_C</td>\n",
       "      <td>2.0</td>\n",
       "      <td>Beverages</td>\n",
       "      <td>Indian</td>\n",
       "    </tr>\n",
       "    <tr>\n",
       "      <th>4</th>\n",
       "      <td>1448490</td>\n",
       "      <td>1</td>\n",
       "      <td>55</td>\n",
       "      <td>2631</td>\n",
       "      <td>243.50</td>\n",
       "      <td>242.50</td>\n",
       "      <td>0</td>\n",
       "      <td>0</td>\n",
       "      <td>40</td>\n",
       "      <td>647</td>\n",
       "      <td>56</td>\n",
       "      <td>TYPE_C</td>\n",
       "      <td>2.0</td>\n",
       "      <td>Beverages</td>\n",
       "      <td>Indian</td>\n",
       "    </tr>\n",
       "  </tbody>\n",
       "</table>\n",
       "</div>"
      ],
      "text/plain": [
       "        id  week  center_id  meal_id  checkout_price  base_price  \\\n",
       "0  1379560     1         55     1885          136.83      152.29   \n",
       "1  1466964     1         55     1993          136.83      135.83   \n",
       "2  1346989     1         55     2539          134.86      135.86   \n",
       "3  1338232     1         55     2139          339.50      437.53   \n",
       "4  1448490     1         55     2631          243.50      242.50   \n",
       "\n",
       "   emailer_for_promotion  homepage_featured  num_orders  city_code  \\\n",
       "0                      0                  0         177        647   \n",
       "1                      0                  0         270        647   \n",
       "2                      0                  0         189        647   \n",
       "3                      0                  0          54        647   \n",
       "4                      0                  0          40        647   \n",
       "\n",
       "   region_code center_type  op_area   category cuisine  \n",
       "0           56      TYPE_C      2.0  Beverages    Thai  \n",
       "1           56      TYPE_C      2.0  Beverages    Thai  \n",
       "2           56      TYPE_C      2.0  Beverages    Thai  \n",
       "3           56      TYPE_C      2.0  Beverages  Indian  \n",
       "4           56      TYPE_C      2.0  Beverages  Indian  "
      ]
     },
     "execution_count": 320,
     "metadata": {},
     "output_type": "execute_result"
    }
   ],
   "source": [
    "df_train.head()"
   ]
  },
  {
   "cell_type": "code",
   "execution_count": 321,
   "metadata": {},
   "outputs": [],
   "source": [
    "df_test = pd.merge(df_test, df_info_fulfil,\n",
    "                   how=\"left\",\n",
    "                   left_on='center_id',\n",
    "                   right_on='center_id')\n",
    "\n",
    "df_test = pd.merge(df_test, df_info_meal,\n",
    "                   how='left',\n",
    "                   left_on='meal_id',\n",
    "                   right_on='meal_id')"
   ]
  },
  {
   "cell_type": "markdown",
   "metadata": {},
   "source": [
    "* (Feature Engineering) \"base_price\"와 \"checkout_price\"(할인 적용 가격)의 차이값 컬럼 생성"
   ]
  },
  {
   "cell_type": "code",
   "execution_count": 322,
   "metadata": {},
   "outputs": [],
   "source": [
    "df_train['price_diff'] = df_train['base_price'] - df_train['checkout_price']\n",
    "df_test['price_diff'] =  df_test['base_price'] - df_test['checkout_price']"
   ]
  },
  {
   "cell_type": "markdown",
   "metadata": {},
   "source": [
    "* (Feature Engineering) \"base_price\"와 \"checkout_price(할인 적용 가격)\"의 percentage(%)기준 차이값 컬럼생성(price_diff_percent)"
   ]
  },
  {
   "cell_type": "code",
   "execution_count": 323,
   "metadata": {},
   "outputs": [],
   "source": [
    "df_train['price_diff_percent'] = (df_train['base_price'] - df_train['checkout_price']) / df_train['base_price']\n",
    "df_test['price_diff_percent'] =  (df_test['base_price'] - df_test['checkout_price']) / df_test['base_price']"
   ]
  },
  {
   "cell_type": "markdown",
   "metadata": {},
   "source": [
    "* (Feature Engineering) 위에서 생성한 \"price_diff_percent\" 값을 기준으로 아래와 같이 네가지 값으로 구성된 범주형 컬럼 생성\n",
    "\n",
    "1)  10% 이상 : \"UP\"\n",
    "\n",
    "2)  5% ~ 10% : \"sl_UP\"\n",
    "\n",
    "3) -5% ~ 5%  : \"notchange\"\n",
    "\n",
    "4) -5% ~-10% : \"sl_Down\n",
    "\n",
    "5) -10% 이하 : \"DOWN\"\n"
   ]
  },
  {
   "cell_type": "code",
   "execution_count": 324,
   "metadata": {},
   "outputs": [],
   "source": [
    "df_train.loc[df_train['price_diff_percent'] > 0.1, 'big_diff'] = \"UP\"\n",
    "df_train.loc[(df_train['price_diff_percent'] < 0.1) & (df_train['price_diff_percent'] > 0.05), 'big_diff'] = \"sl_UP\"\n",
    "\n",
    "df_train.loc[df_train['price_diff_percent'] < -0.1, 'big_diff'] = \"DOWM\"\n",
    "df_train.loc[(df_train['price_diff_percent'] > -0.1) & (df_train['price_diff_percent'] < -0.05), 'big_diff'] = \"sl_Down\"\n",
    "\n",
    "df_train['big_diff'] = df_train['big_diff'].fillna(\"notchange\")\n",
    "\n",
    "\n",
    "df_test.loc[df_test['price_diff_percent'] > 0.1, 'big_diff'] = \"UP\"\n",
    "df_test.loc[(df_test['price_diff_percent'] < 0.1) & (df_test['price_diff_percent'] > 0.05), 'big_diff'] = \"sl_UP\"\n",
    "\n",
    "df_test.loc[df_test['price_diff_percent'] < -0.1, 'big_diff'] = \"DOWM\"\n",
    "df_test.loc[(df_test['price_diff_percent'] > -0.1) & (df_test['price_diff_percent'] < -0.05), 'big_diff'] = \"sl_Down\"\n",
    "\n",
    "df_test['big_diff'] = df_test['big_diff'].fillna(\"notchange\")"
   ]
  },
  {
   "cell_type": "markdown",
   "metadata": {},
   "source": [
    "* (Feature Engineering) \"week\"컬럼값은 순차적으로 증가하는 형태로 표시. 주간단위로 발생하는 주기적/반복적인 \"num_orders\"의 변동을 학습시키기 위해 sin, cos 함수를 이용하여 cyclical 형태의 값으로 구성된 신규 컬럼을 생성\n",
    "\n",
    "(참고링크) https://www.avanwyk.com/encoding-cyclical-features-for-deep-learning/"
   ]
  },
  {
   "cell_type": "code",
   "execution_count": 325,
   "metadata": {},
   "outputs": [],
   "source": [
    "# 52주 -> 1년 주기\n",
    "\n",
    "df_train['week_sin'] = np.sin(2 * np.pi * df_train['week'] / 52.143)\n",
    "df_train['week_cos'] = np.cos(2 * np.pi * df_train['week'] / 52.143)\n",
    "\n",
    "df_test['week_sin'] = np.sin(2 * np.pi * df_test['week'] / 52.143)\n",
    "df_test['week_cos'] = np.cos(2 * np.pi * df_test['week'] / 52.143)"
   ]
  },
  {
   "cell_type": "code",
   "execution_count": 326,
   "metadata": {},
   "outputs": [],
   "source": [
    "# 4주 -> 1개월 주기\n",
    "\n",
    "df_train['week_sin_1'] = np.sin(2 * np.pi * df_train['week'] / 4)\n",
    "df_train['week_cos_1'] = np.cos(2 * np.pi * df_train['week'] / 4)\n",
    "\n",
    "df_test['week_sin_1'] = np.sin(2 * np.pi * df_test['week'] / 4)\n",
    "df_test['week_cos_1'] = np.cos(2 * np.pi * df_test['week'] / 4)"
   ]
  },
  {
   "cell_type": "markdown",
   "metadata": {},
   "source": [
    "* (Feature Engineering) 프로모션 여부를 표시한 컬럼인 \"emailer_for_promotion\", \"homepage_featured\"를 하나의 컬럼으로 생성\n",
    "\n",
    "1) 프로모션을 진행하지 않았을경우  : 0\n",
    "\n",
    "2) 프로모션을 둘중 한개만 진행했을 경우 : 1\n",
    "\n",
    "3) 프로모션을 모두 진행했을 경우 : 2"
   ]
  },
  {
   "cell_type": "code",
   "execution_count": 327,
   "metadata": {},
   "outputs": [],
   "source": [
    "df_train['email_plus_homepage'] = df_train['emailer_for_promotion'] + df_train['homepage_featured']\n",
    "\n",
    "df_test['email_plus_homepage'] = df_test['emailer_for_promotion'] + df_test['homepage_featured']"
   ]
  },
  {
   "cell_type": "markdown",
   "metadata": {},
   "source": [
    "* (Feature Engineering) \"city_code\"컬럼과 \"region_code\"컬럼을 합쳐 하나의 컬럼으로 생성"
   ]
  },
  {
   "cell_type": "code",
   "execution_count": 328,
   "metadata": {},
   "outputs": [],
   "source": [
    "df_train['city_region'] = df_train['city_code'].astype('str') + '_' + df_train['region_code'].astype('str')\n",
    "\n",
    "df_test['city_region'] = df_test['city_code'].astype('str') + '_' + df_test['region_code'].astype('str')"
   ]
  },
  {
   "cell_type": "code",
   "execution_count": 284,
   "metadata": {},
   "outputs": [],
   "source": [
    "label_encode_columns = ['center_id', \n",
    "                        'meal_id', \n",
    "                        'email_plus_homepage',                          \n",
    "                        'city_region',                        \n",
    "                        'op_area',\n",
    "                        'center_type',\n",
    "                        'category',\n",
    "                        'cuisine',\n",
    "                        'big_diff',\n",
    "                        'emailer_for_promotion',\n",
    "                        'homepage_featured',\n",
    "                        'city_code',\n",
    "                        'region_code'\n",
    "                        \n",
    "                       ]"
   ]
  },
  {
   "cell_type": "code",
   "execution_count": 329,
   "metadata": {},
   "outputs": [
    {
     "data": {
      "text/plain": [
       "['center_id',\n",
       " 'meal_id',\n",
       " 'email_plus_homepage',\n",
       " 'city_region',\n",
       " 'op_area',\n",
       " 'center_type',\n",
       " 'category',\n",
       " 'cuisine',\n",
       " 'big_diff',\n",
       " 'emailer_for_promotion',\n",
       " 'homepage_featured',\n",
       " 'city_code',\n",
       " 'region_code']"
      ]
     },
     "execution_count": 329,
     "metadata": {},
     "output_type": "execute_result"
    }
   ],
   "source": [
    "label_encode_columns"
   ]
  },
  {
   "cell_type": "code",
   "execution_count": 330,
   "metadata": {},
   "outputs": [
    {
     "data": {
      "text/plain": [
       "Index(['id', 'week', 'center_id', 'meal_id', 'checkout_price', 'base_price',\n",
       "       'emailer_for_promotion', 'homepage_featured', 'num_orders', 'city_code',\n",
       "       'region_code', 'center_type', 'op_area', 'category', 'cuisine',\n",
       "       'price_diff', 'price_diff_percent', 'big_diff', 'week_sin', 'week_cos',\n",
       "       'week_sin_1', 'week_cos_1', 'email_plus_homepage', 'city_region'],\n",
       "      dtype='object')"
      ]
     },
     "execution_count": 330,
     "metadata": {},
     "output_type": "execute_result"
    }
   ],
   "source": [
    "df_train.columns"
   ]
  },
  {
   "cell_type": "code",
   "execution_count": 331,
   "metadata": {},
   "outputs": [
    {
     "data": {
      "text/plain": [
       "0    388874\n",
       "1     48443\n",
       "2     19231\n",
       "Name: email_plus_homepage, dtype: int64"
      ]
     },
     "execution_count": 331,
     "metadata": {},
     "output_type": "execute_result"
    }
   ],
   "source": [
    "df_train['email_plus_homepage'].value_counts()"
   ]
  },
  {
   "cell_type": "code",
   "execution_count": 332,
   "metadata": {},
   "outputs": [
    {
     "data": {
      "text/plain": [
       "0           UP\n",
       "1    notchange\n",
       "2    notchange\n",
       "3           UP\n",
       "4    notchange\n",
       "Name: big_diff, dtype: object"
      ]
     },
     "execution_count": 332,
     "metadata": {},
     "output_type": "execute_result"
    }
   ],
   "source": [
    "df_train['big_diff'].head()"
   ]
  },
  {
   "cell_type": "code",
   "execution_count": 333,
   "metadata": {},
   "outputs": [],
   "source": [
    "le = preprocessing.LabelEncoder()\n",
    "\n",
    "for col in label_encode_columns:\n",
    "    le.fit(df_train[col])\n",
    "    df_train[col + '_encoded'] = le.transform(df_train[col])\n",
    "    df_test[col + '_encoded'] = le.transform(df_test[col])"
   ]
  },
  {
   "cell_type": "code",
   "execution_count": 334,
   "metadata": {},
   "outputs": [],
   "source": [
    "feature_name = [col for col in df_train.columns if col not in label_encode_columns]"
   ]
  },
  {
   "cell_type": "code",
   "execution_count": 335,
   "metadata": {},
   "outputs": [
    {
     "data": {
      "text/plain": [
       "['id',\n",
       " 'week',\n",
       " 'checkout_price',\n",
       " 'base_price',\n",
       " 'num_orders',\n",
       " 'price_diff',\n",
       " 'price_diff_percent',\n",
       " 'week_sin',\n",
       " 'week_cos',\n",
       " 'week_sin_1',\n",
       " 'week_cos_1',\n",
       " 'center_id_encoded',\n",
       " 'meal_id_encoded',\n",
       " 'email_plus_homepage_encoded',\n",
       " 'city_region_encoded',\n",
       " 'op_area_encoded',\n",
       " 'center_type_encoded',\n",
       " 'category_encoded',\n",
       " 'cuisine_encoded',\n",
       " 'big_diff_encoded',\n",
       " 'emailer_for_promotion_encoded',\n",
       " 'homepage_featured_encoded',\n",
       " 'city_code_encoded',\n",
       " 'region_code_encoded']"
      ]
     },
     "execution_count": 335,
     "metadata": {},
     "output_type": "execute_result"
    }
   ],
   "source": [
    "feature_name"
   ]
  },
  {
   "cell_type": "markdown",
   "metadata": {},
   "source": [
    "* 학습에 불필요한 \"id\"컬럼과 target 컬럼인 \"num_orders\"를 제외"
   ]
  },
  {
   "cell_type": "code",
   "execution_count": 336,
   "metadata": {},
   "outputs": [],
   "source": [
    "feature_name.remove('id')\n",
    "feature_name.remove('num_orders')"
   ]
  },
  {
   "cell_type": "code",
   "execution_count": 337,
   "metadata": {},
   "outputs": [
    {
     "data": {
      "text/plain": [
       "['week',\n",
       " 'checkout_price',\n",
       " 'base_price',\n",
       " 'price_diff',\n",
       " 'price_diff_percent',\n",
       " 'week_sin',\n",
       " 'week_cos',\n",
       " 'week_sin_1',\n",
       " 'week_cos_1',\n",
       " 'center_id_encoded',\n",
       " 'meal_id_encoded',\n",
       " 'email_plus_homepage_encoded',\n",
       " 'city_region_encoded',\n",
       " 'op_area_encoded',\n",
       " 'center_type_encoded',\n",
       " 'category_encoded',\n",
       " 'cuisine_encoded',\n",
       " 'big_diff_encoded',\n",
       " 'emailer_for_promotion_encoded',\n",
       " 'homepage_featured_encoded',\n",
       " 'city_code_encoded',\n",
       " 'region_code_encoded']"
      ]
     },
     "execution_count": 337,
     "metadata": {},
     "output_type": "execute_result"
    }
   ],
   "source": [
    "feature_name"
   ]
  },
  {
   "cell_type": "code",
   "execution_count": 338,
   "metadata": {},
   "outputs": [],
   "source": [
    "categorical_columns = ['center_id_encoded',\n",
    "                       'meal_id_encoded',\n",
    "                       'email_plus_homepage_encoded',\n",
    "                       'city_region_encoded',\n",
    "                       'op_area_encoded',\n",
    "                       'center_type_encoded',\n",
    "                       'category_encoded',\n",
    "                       'cuisine_encoded',\n",
    "                       'big_diff_encoded'                       \n",
    "                     ]"
   ]
  },
  {
   "cell_type": "code",
   "execution_count": 339,
   "metadata": {},
   "outputs": [],
   "source": [
    "numerical_columns = [col for col in feature_name if col not in categorical_columns]"
   ]
  },
  {
   "cell_type": "code",
   "execution_count": 340,
   "metadata": {},
   "outputs": [],
   "source": [
    "#numerical_columns.remove('checkout_price')\n",
    "#numerical_columns.remove('base_price')"
   ]
  },
  {
   "cell_type": "code",
   "execution_count": 341,
   "metadata": {},
   "outputs": [
    {
     "data": {
      "text/plain": [
       "['week',\n",
       " 'checkout_price',\n",
       " 'base_price',\n",
       " 'price_diff',\n",
       " 'price_diff_percent',\n",
       " 'week_sin',\n",
       " 'week_cos',\n",
       " 'week_sin_1',\n",
       " 'week_cos_1',\n",
       " 'emailer_for_promotion_encoded',\n",
       " 'homepage_featured_encoded',\n",
       " 'city_code_encoded',\n",
       " 'region_code_encoded']"
      ]
     },
     "execution_count": 341,
     "metadata": {},
     "output_type": "execute_result"
    }
   ],
   "source": [
    "numerical_columns"
   ]
  },
  {
   "cell_type": "markdown",
   "metadata": {},
   "source": [
    "* train set을  80 :20(train : valid) 으로 나눠 학습실행"
   ]
  },
  {
   "cell_type": "markdown",
   "metadata": {},
   "source": [
    "(Feature Engineering) 'num_orders'의 값을 log transform"
   ]
  },
  {
   "cell_type": "code",
   "execution_count": 342,
   "metadata": {},
   "outputs": [],
   "source": [
    "X = df_train[categorical_columns + numerical_columns]\n",
    "#y = df_train['num_orders']\n",
    "y = np.log1p(df_train['num_orders'])\n",
    "\n",
    "X_train, X_valid, y_train, y_valid = train_test_split(X, y, \n",
    "                                                    test_size=0.02, \n",
    "                                                    shuffle=False)"
   ]
  },
  {
   "cell_type": "markdown",
   "metadata": {},
   "source": [
    "* (parameter tuning) Grid search 를 통해 최적의 파라미터를 계산함(1차 feature eng. & parameter tuning에서 산출함)\n",
    "* {'colsample_bytree': 0.4, 'min_child_samples': 5, 'num_leaves': 127'}"
   ]
  },
  {
   "cell_type": "code",
   "execution_count": 343,
   "metadata": {},
   "outputs": [],
   "source": [
    "params = {'boosting_type' : 'gbdt',\n",
    "          'objective': 'regression',\n",
    "          'num_leaves':127,\n",
    "          'learning_rate':0.01,\n",
    "          'colsample_bytree': 0.4,\n",
    "          'min_child_samples': 5,\n",
    "          'n_estimators':30000,\n",
    "          'max_depth':20,\n",
    "          'metric':'rmse',\n",
    "          }"
   ]
  },
  {
   "cell_type": "markdown",
   "metadata": {},
   "source": [
    "### LightGBM Modeling\n",
    "\n",
    "* Gradient Boosting Decision Tree\n",
    "* Ensemble\n",
    "\n",
    "참고 : https://lsjsj92.tistory.com/548\n"
   ]
  },
  {
   "cell_type": "code",
   "execution_count": 344,
   "metadata": {},
   "outputs": [],
   "source": [
    "model = lgb.LGBMRegressor(**params)"
   ]
  },
  {
   "cell_type": "code",
   "execution_count": 345,
   "metadata": {},
   "outputs": [
    {
     "data": {
      "text/plain": [
       "LGBMRegressor(boosting_type='gbdt', class_weight=None, colsample_bytree=0.4,\n",
       "              importance_type='split', learning_rate=0.01, max_depth=20,\n",
       "              metric='rmse', min_child_samples=5, min_child_weight=0.001,\n",
       "              min_split_gain=0.0, n_estimators=30000, n_jobs=-1, num_leaves=127,\n",
       "              objective='regression', random_state=None, reg_alpha=0.0,\n",
       "              reg_lambda=0.0, silent=True, subsample=1.0,\n",
       "              subsample_for_bin=200000, subsample_freq=0)"
      ]
     },
     "execution_count": 345,
     "metadata": {},
     "output_type": "execute_result"
    }
   ],
   "source": [
    "model"
   ]
  },
  {
   "cell_type": "code",
   "execution_count": 346,
   "metadata": {},
   "outputs": [],
   "source": [
    "params_fit = {'early_stopping_rounds':1000,\n",
    "             'feature_name':numerical_columns+categorical_columns,\n",
    "             'categorical_feature':categorical_columns,\n",
    "             'eval_set':[(X_train,y_train), (X_valid, y_valid)]\n",
    "             }"
   ]
  },
  {
   "cell_type": "code",
   "execution_count": 347,
   "metadata": {},
   "outputs": [
    {
     "name": "stdout",
     "output_type": "stream",
     "text": [
      "Training until validation scores don't improve for 1000 rounds.\n",
      "[500]\ttraining's rmse: 0.515178\tvalid_1's rmse: 0.52932\n",
      "[1000]\ttraining's rmse: 0.477929\tvalid_1's rmse: 0.496482\n",
      "[1500]\ttraining's rmse: 0.462406\tvalid_1's rmse: 0.485806\n",
      "[2000]\ttraining's rmse: 0.453441\tvalid_1's rmse: 0.479231\n",
      "[2500]\ttraining's rmse: 0.446808\tvalid_1's rmse: 0.47456\n",
      "[3000]\ttraining's rmse: 0.441005\tvalid_1's rmse: 0.471949\n",
      "[3500]\ttraining's rmse: 0.435867\tvalid_1's rmse: 0.469616\n",
      "[4000]\ttraining's rmse: 0.431734\tvalid_1's rmse: 0.468094\n",
      "[4500]\ttraining's rmse: 0.427848\tvalid_1's rmse: 0.466585\n",
      "[5000]\ttraining's rmse: 0.424254\tvalid_1's rmse: 0.465668\n",
      "[5500]\ttraining's rmse: 0.420992\tvalid_1's rmse: 0.464441\n",
      "[6000]\ttraining's rmse: 0.4179\tvalid_1's rmse: 0.463878\n",
      "[6500]\ttraining's rmse: 0.415036\tvalid_1's rmse: 0.463233\n",
      "[7000]\ttraining's rmse: 0.41227\tvalid_1's rmse: 0.462443\n",
      "[7500]\ttraining's rmse: 0.40958\tvalid_1's rmse: 0.461812\n",
      "[8000]\ttraining's rmse: 0.407024\tvalid_1's rmse: 0.461283\n",
      "[8500]\ttraining's rmse: 0.404421\tvalid_1's rmse: 0.460938\n",
      "[9000]\ttraining's rmse: 0.40213\tvalid_1's rmse: 0.460771\n",
      "[9500]\ttraining's rmse: 0.39977\tvalid_1's rmse: 0.460468\n",
      "[10000]\ttraining's rmse: 0.397457\tvalid_1's rmse: 0.460233\n",
      "[10500]\ttraining's rmse: 0.395343\tvalid_1's rmse: 0.460148\n",
      "[11000]\ttraining's rmse: 0.393281\tvalid_1's rmse: 0.459914\n",
      "[11500]\ttraining's rmse: 0.391373\tvalid_1's rmse: 0.459986\n",
      "[12000]\ttraining's rmse: 0.389389\tvalid_1's rmse: 0.459945\n",
      "[12500]\ttraining's rmse: 0.38754\tvalid_1's rmse: 0.459755\n",
      "[13000]\ttraining's rmse: 0.385849\tvalid_1's rmse: 0.459694\n",
      "[13500]\ttraining's rmse: 0.384112\tvalid_1's rmse: 0.459685\n",
      "[14000]\ttraining's rmse: 0.382438\tvalid_1's rmse: 0.459649\n",
      "[14500]\ttraining's rmse: 0.380876\tvalid_1's rmse: 0.459654\n",
      "[15000]\ttraining's rmse: 0.379298\tvalid_1's rmse: 0.459721\n",
      "Early stopping, best iteration is:\n",
      "[14212]\ttraining's rmse: 0.381782\tvalid_1's rmse: 0.459611\n"
     ]
    },
    {
     "data": {
      "text/plain": [
       "LGBMRegressor(boosting_type='gbdt', class_weight=None, colsample_bytree=0.4,\n",
       "              importance_type='split', learning_rate=0.01, max_depth=20,\n",
       "              metric='rmse', min_child_samples=5, min_child_weight=0.001,\n",
       "              min_split_gain=0.0, n_estimators=30000, n_jobs=-1, num_leaves=127,\n",
       "              objective='regression', random_state=None, reg_alpha=0.0,\n",
       "              reg_lambda=0.0, silent=True, subsample=1.0,\n",
       "              subsample_for_bin=200000, subsample_freq=0)"
      ]
     },
     "execution_count": 347,
     "metadata": {},
     "output_type": "execute_result"
    }
   ],
   "source": [
    "model.fit(X_train, y_train, **params_fit, verbose=500)"
   ]
  },
  {
   "cell_type": "code",
   "execution_count": 350,
   "metadata": {},
   "outputs": [],
   "source": [
    "X = df_test[categorical_columns + numerical_columns]"
   ]
  },
  {
   "cell_type": "code",
   "execution_count": 351,
   "metadata": {},
   "outputs": [],
   "source": [
    "pred = model.predict(X)"
   ]
  },
  {
   "cell_type": "code",
   "execution_count": 352,
   "metadata": {},
   "outputs": [],
   "source": [
    "pred = np.expm1(pred)"
   ]
  },
  {
   "cell_type": "code",
   "execution_count": 353,
   "metadata": {},
   "outputs": [],
   "source": [
    "submission_df = df_test.copy()\n",
    "submission_df['num_orders'] = pred\n",
    "submission_df = submission_df[['id', 'num_orders']]\n",
    "submission_df.to_csv('submission_simple_plus_cosin_sumcategory_pricediff.csv', index=False)"
   ]
  },
  {
   "cell_type": "code",
   "execution_count": 354,
   "metadata": {},
   "outputs": [
    {
     "data": {
      "text/html": [
       "<div>\n",
       "<style scoped>\n",
       "    .dataframe tbody tr th:only-of-type {\n",
       "        vertical-align: middle;\n",
       "    }\n",
       "\n",
       "    .dataframe tbody tr th {\n",
       "        vertical-align: top;\n",
       "    }\n",
       "\n",
       "    .dataframe thead th {\n",
       "        text-align: right;\n",
       "    }\n",
       "</style>\n",
       "<table border=\"1\" class=\"dataframe\">\n",
       "  <thead>\n",
       "    <tr style=\"text-align: right;\">\n",
       "      <th></th>\n",
       "      <th>id</th>\n",
       "      <th>num_orders</th>\n",
       "    </tr>\n",
       "  </thead>\n",
       "  <tbody>\n",
       "  </tbody>\n",
       "</table>\n",
       "</div>"
      ],
      "text/plain": [
       "Empty DataFrame\n",
       "Columns: [id, num_orders]\n",
       "Index: []"
      ]
     },
     "execution_count": 354,
     "metadata": {},
     "output_type": "execute_result"
    }
   ],
   "source": [
    "submission_df[submission_df['num_orders']<1]"
   ]
  },
  {
   "cell_type": "markdown",
   "metadata": {},
   "source": [
    "## Result\n",
    "* Baseline modeling : score = 60.6642916161, 1,344명중 521등, 상위 38% rank\n",
    "* 1차 피쳐엔지니어링 & parameter tuning : score = 55.5030926505, 1,344명중 267등, 상위 19% rank\n",
    "* 2차 피쳐엔지니어링 & parameter tuning : score = 52.6740812166, 1,344명중 112등, 상위 8% rank"
   ]
  }
 ],
 "metadata": {
  "kernelspec": {
   "display_name": "Python 3",
   "language": "python",
   "name": "python3"
  },
  "language_info": {
   "codemirror_mode": {
    "name": "ipython",
    "version": 3
   },
   "file_extension": ".py",
   "mimetype": "text/x-python",
   "name": "python",
   "nbconvert_exporter": "python",
   "pygments_lexer": "ipython3",
   "version": "3.6.4"
  }
 },
 "nbformat": 4,
 "nbformat_minor": 2
}
